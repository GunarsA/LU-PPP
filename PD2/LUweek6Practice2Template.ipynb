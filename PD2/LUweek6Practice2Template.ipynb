{
  "nbformat": 4,
  "nbformat_minor": 0,
  "metadata": {
    "colab": {
      "provenance": []
    },
    "kernelspec": {
      "name": "python3",
      "display_name": "Python 3"
    },
    "language_info": {
      "name": "python"
    }
  },
  "cells": [
    {
      "cell_type": "markdown",
      "source": [
        "# 6. nedēļa Praktiskā nodarbība Nr. 2\n"
      ],
      "metadata": {
        "id": "Dx2MgNL2Vp21"
      }
    },
    {
      "cell_type": "markdown",
      "source": [
        "# Praktiski nostiprināsim:\n",
        "**vārdnīcas, funkcijas, Python bibliotēkas**"
      ],
      "metadata": {
        "id": "KPrH78Fbi7LA"
      }
    },
    {
      "cell_type": "markdown",
      "source": [
        "**Uzdevums U1**\n",
        "\n",
        "Našķu kalkulators, grūtības pakāpe: 2/5\n",
        "\n",
        "Lietotājs ievada, cik soļus ir nostaigājis pastaigā. Programma izvada kāds našķu apjoms kcal būtu ekvivalents pastaigā patērētajām kalorijām.\n",
        "\n",
        "Dati testiem:\n",
        "\"Cielaviņa\" 480 kcal, āboli 52, burkāni 41, banāns 89, piena šokolāde 535, sviestmaize 304.\n",
        "\n",
        "1000 soļu veikšanai tiek izlietotas apmēram 35 kcal."
      ],
      "metadata": {
        "id": "brbFfAd0V0Ta"
      }
    },
    {
      "cell_type": "code",
      "source": [
        "solu_skaits=int(input(\"Kādu soļu skaitu izdevās sasniegt?\"))"
      ],
      "metadata": {
        "id": "Z_KopbosPkBt",
        "colab": {
          "base_uri": "https://localhost:8080/"
        },
        "outputId": "70d0ee50-b8ce-4a50-b536-b58d315527e9"
      },
      "execution_count": null,
      "outputs": [
        {
          "name": "stdout",
          "output_type": "stream",
          "text": [
            "Kādu soļu skaitu izdevās sasniegt?4000\n"
          ]
        }
      ]
    },
    {
      "cell_type": "markdown",
      "source": [
        "**Uzdevums U2**\n",
        "Grūtības pakāpe: 3/5\n",
        "\n",
        "Realizēt vienkāršotu kafijas automāta programmatūru.\n",
        "1. Kafijas automāts lietotājam piedāvā izvēlēties: melnu vai baltu kafiju vai tēju. Neatkarīgi no veida dzēriens maksā 80 centus.\n",
        "2. Lietotājs drīkst izmantot tikai 10, 20, 50 centu monētas. Automāts izdod atlikumu 10, 20 un 50 centu monētās.\n",
        "3. Melna kafija tiek pagatavota: 300 ml ūdens, 8 grami kafijas. Balta kafija tiek pagatavota 260 ml ūdens, 8 grami kafijas, 40 ml piena. Tēja tiek pagatavota: 300 ml ūdens, 1 tējas vienība.  \n",
        "4. Pēc automāta apkopes tajā ir ievietoti: 1 l ūdens, 1 l piena, 3 tējas vienības, 40 g kafijas. 5 50 centu monētas, 5 20 centu monētas, 5 10 centu monētas.\n",
        "\n",
        "Realizējiet sekojošus uzdevumus:\n",
        "\n",
        "---------Bezmaksas automāts :)------------------------\n",
        "\n",
        "A. Lietotājs izvēlas dzērienu.\n",
        "\n",
        "B. Automāts pārbauda, vai pietiek sastāvdaļu dzēriena pagatavošanai. Ja jā, tad ejam pie nākamā soļa; ja nē, tad paziņojam, ka nepietiek sastāvdaļu un process beidzas.\n",
        "\n",
        "C. Atņemt no sastāvdaļām dzēriena pagatavošanai nepieciešamo.  \n",
        "\n",
        "--------Maksas automāts ----------------------------\n",
        "\n",
        "Jēgpilni integrēt iepriekšējā kodā\n",
        "\n",
        "D. Lietotājs norāda, cik katra veida monētu ir ievietotas, piemēram, 8 10 centu monētas.\n",
        "\n",
        "E. Automāts pārbauda, vai pietiek naudas dzēriena iegādei. Ja jā, tad ejam pie nākamā soļa, ja nē, tad process beidzas (šobrīd ciklu neveidosim).\n",
        "\n",
        "F. Ja naudas pietiek, tad pagatavot dzērienu un aprēķināt vai nepieciešams izdot atlikumu un izdrukāt atlikuma apjomu pa monētu veidiem.\n",
        "\n",
        "G. Pieskaitīt lietotāja iemaksātu naudu automātā esošajiem resursiem un atņemt atlikumā izdoto.\n",
        "\n",
        "Papildu grūtības pakāpe:\n",
        "\n",
        "Realizēt ciklu tā, lai lietotājs varētu izvēlēties citu dzērienu, ja trūkst sastāvdaļu esošajam vai piemaksāt, ja trūkst naudas dzēriena iegādei."
      ],
      "metadata": {
        "id": "KG7XRtWY1tz7"
      }
    },
    {
      "cell_type": "markdown",
      "source": [
        "**Uzdevums U3**\n",
        "\n",
        "Grūtības pakāpe: ar priekšzināšanām.\n",
        "\n",
        "Izmēģināt dažādas attēlu apstrādes operācijas, izmantojot Python scikit-image bibliotēku un matplotlib vizualizācijām.\n",
        "\n",
        "1. Augšupielādēt Colab jebkādu krāsu attēlu pēc savas izvēles JPG formātā.\n",
        "\n",
        "2. Ielasīt attēlu kā mainīgo im, izmantojot imread funkciju. Attēlu iespējams aplūkot, izmantojot matplotlib.pyplot imshow funkciju.\n",
        "\n",
        "3. Vadoties pēc dokumentācijas, uzlabot attēla kontrastu (exposure.equalize_hist)\n",
        "\n",
        "4. Vadoties pēc dokumentācijas, izpludināt attēlu (filters.gaussian)\n",
        "\n",
        "5. Vadoties pēc dokumentācijas, uzlabot attēla asumu (unsharp_masking)."
      ],
      "metadata": {
        "id": "61mX-AoMS4jY"
      }
    },
    {
      "cell_type": "code",
      "source": [],
      "metadata": {
        "id": "erjFpnOGmIgO"
      },
      "execution_count": null,
      "outputs": []
    }
  ]
}