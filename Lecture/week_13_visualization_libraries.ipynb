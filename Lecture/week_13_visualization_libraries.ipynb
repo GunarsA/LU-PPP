{
 "cells": [
  {
   "cell_type": "markdown",
   "metadata": {},
   "source": [
    "![LU Logo](https://www.df.lu.lv/fileadmin/user_upload/LU.LV/Apaksvietnes/Fakultates/www.df.lu.lv/Par_mums/Logo/DF_logo/01_DF_logo_LV.png)"
   ]
  },
  {
   "cell_type": "markdown",
   "metadata": {},
   "source": [
    "# Python Visualization Libraries"
   ]
  },
  {
   "cell_type": "markdown",
   "metadata": {},
   "source": []
  },
  {
   "cell_type": "markdown",
   "metadata": {},
   "source": [
    "## Lesson Overview\n",
    "\n",
    "We will cover the following topics in this lesson:\n",
    "\n",
    "* matplotlib visualization library\n",
    "* seaborn visualization library - additional functionality to matplotlib\n",
    "* plotly visualization library - interactive plots\n",
    "* special visualization libraries - networkx, folium, etc.\n",
    "\n",
    "\n",
    "## Lesson Objectives\n",
    "\n",
    "At the end of this lesson you should be able to:\n",
    "\n",
    "* create basic plots using matplotlib\n",
    "* create more advanced plots using seaborn\n",
    "* create interactive plots using plotly\n",
    "* explore information about special plots using networkx, folium, etc."
   ]
  },
  {
   "cell_type": "markdown",
   "metadata": {},
   "source": []
  },
  {
   "cell_type": "markdown",
   "metadata": {},
   "source": [
    "## Data Visualization Landscape"
   ]
  },
  {
   "cell_type": "markdown",
   "metadata": {},
   "source": [
    "![Python Visualization Landscape](https://github.com/rougier/python-visualization-landscape/blob/master/landscape-colors.png?raw=true)\n",
    "\n",
    "Clickable version: [Python Visualization Landscape](https://rougier.github.io/python-visualization-landscape/landscape-colors.html)\n",
    "\n",
    "Overview:\n",
    "- https://www.anaconda.com/python-data-visualization-2018-why-so-many-libraries/\n",
    "\n",
    "---"
   ]
  },
  {
   "cell_type": "markdown",
   "metadata": {},
   "source": [
    "## Motivation\n",
    "\n",
    "[Same Stats, Different Graphs](https://www.autodeskresearch.com/publications/samestats)\n",
    "- \"Never trust statistics alone, always visualize your data.\" "
   ]
  },
  {
   "cell_type": "markdown",
   "metadata": {},
   "source": [
    "## Topic 1: - matplotlib visualization library\n",
    "\n",
    "See: Matplotlib notebook\n",
    "* week_13_visualization_libraries_Matplotlib.ipynb"
   ]
  },
  {
   "cell_type": "code",
   "execution_count": null,
   "metadata": {},
   "outputs": [],
   "source": []
  },
  {
   "cell_type": "markdown",
   "metadata": {},
   "source": [
    "## Topic 2: - plotly visualization library\n",
    "\n",
    "See: Plotly notebook\n",
    "\n",
    "- week_13_visualization_libraries_Plotly.ipynb"
   ]
  },
  {
   "cell_type": "code",
   "execution_count": 2,
   "metadata": {},
   "outputs": [],
   "source": []
  },
  {
   "cell_type": "markdown",
   "metadata": {},
   "source": [
    "## Topic 3: - other libraries"
   ]
  },
  {
   "cell_type": "markdown",
   "metadata": {},
   "source": [
    "[Pandas data visualization](https://pandas.pydata.org/pandas-docs/stable/user_guide/visualization.html)\n",
    "\n",
    "---\n"
   ]
  },
  {
   "cell_type": "markdown",
   "metadata": {},
   "source": [
    "### Map visualization\n",
    "\n",
    "Folium (Python) + Leaflet:\n",
    "- https://python-visualization.github.io/folium/\n",
    "  - https://python-visualization.github.io/folium/quickstart.html\n",
    "  - https://github.com/ValRCS/LU-pysem/blob/master/Folium_library/FOLIUM.ipynb\n",
    "- https://melaniewalsh.github.io/Intro-Cultural-Analytics/07-Mapping/02-Custom-Maps.html\n",
    "\n",
    "Web Mapping w. Python + Leaflet:\n",
    "- https://programminghistorian.org/en/lessons/mapping-with-python-leaflet\n",
    "\n",
    "---"
   ]
  },
  {
   "cell_type": "markdown",
   "metadata": {},
   "source": [
    "### Network visualization\n",
    "\n",
    "NetworkX (Python):\n",
    "- [Drawing graphs with NetworkX](https://networkx.github.io/documentation/stable/tutorial.html#drawing-graphs)\n",
    "  - offloads graph drawing to Matplotlib or Graphviz\n",
    "- [Visualizing a NetworkX graph in the Notebook with D3.js](https://ipython-books.github.io/64-visualizing-a-networkx-graph-in-the-notebook-with-d3js/)\n",
    "  - (Jupyter + %%javascript)\n",
    "\n",
    "Network graphs in Python:\n",
    "- Plotly: https://plot.ly/python/network-graphs/\n",
    "- PyGraphistry: https://github.com/graphistry/pygraphistry\n",
    "- PyVis: https://pyvis.readthedocs.io/en/latest/"
   ]
  }
 ],
 "metadata": {
  "kernelspec": {
   "display_name": "Python 3 (ipykernel)",
   "language": "python",
   "name": "python3"
  },
  "language_info": {
   "codemirror_mode": {
    "name": "ipython",
    "version": 3
   },
   "file_extension": ".py",
   "mimetype": "text/x-python",
   "name": "python",
   "nbconvert_exporter": "python",
   "pygments_lexer": "ipython3",
   "version": "3.9.18"
  }
 },
 "nbformat": 4,
 "nbformat_minor": 4
}
