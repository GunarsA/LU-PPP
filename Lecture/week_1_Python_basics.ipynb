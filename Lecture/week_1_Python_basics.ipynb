{
 "cells": [
  {
   "cell_type": "markdown",
   "metadata": {},
   "source": [
    "![LU Logo](https://www.df.lu.lv/fileadmin/user_upload/LU.LV/Apaksvietnes/Fakultates/www.df.lu.lv/Par_mums/Logo/DF_logo/01_DF_logo_LV.png)"
   ]
  },
  {
   "cell_type": "markdown",
   "metadata": {},
   "source": [
    "# Week 1: Introduction and Python Basics\n",
    "\n",
    "\n",
    "\n",
    "\n"
   ]
  },
  {
   "cell_type": "markdown",
   "metadata": {},
   "source": [
    "## Lesson Overview\n",
    "\n",
    "We will cover the following topics:\n",
    "\n",
    "* Introduction to Python: history\n",
    "* Python installation and setting up the programming environment.\n",
    "* REPL (Read-Evaluate-Print Loop), help\n",
    "* Syntax and Variables: understanding Python syntax\n",
    "* Data Types: strings, numbers (integers, floats), booleans.\n",
    "* Basic Operators: arithmetic, assignment, comparison, logical.\n",
    "* Variables: creating and using variables.\n",
    "\n",
    "## Prerequisites\n",
    "\n",
    "* Knowledge of basic programming concepts\n",
    "\n",
    "## Lesson Objectives\n",
    "\n",
    "At the end of the lesson you should be able to:\n",
    "\n",
    "* interact with the Python interpreter.\n",
    "* write simple Python programs.\n",
    "* define and use variables.\n",
    "* use comparison operators."
   ]
  },
  {
   "cell_type": "markdown",
   "metadata": {},
   "source": [
    "---\n",
    "\n",
    "## Topic 1: - Python: History and Motivation\n",
    "\n",
    "![Python XKCD comic](https://imgs.xkcd.com/comics/python.png)\n",
    "\n",
    "Source: https://xkcd.com/353/\n"
   ]
  },
  {
   "cell_type": "markdown",
   "metadata": {},
   "source": [
    "### 1.1 - History"
   ]
  },
  {
   "cell_type": "markdown",
   "metadata": {},
   "source": [
    "* Developed by Guido van Rossum in late 1980s\n",
    "  * successor to the ABC programming language\n",
    "\n",
    "![Guido van Rossum](https://github.com/ValRCS/python_public_resources/blob/main/img/Guido_van_Rossum_2012_w400.jpg?raw=true)\n",
    "\n",
    "\n",
    "* Publicly released in 1991\n",
    "  * exception handling\n",
    "  *  classes with inheritance\n",
    "  * module system\n",
    "  * core datatypes\n",
    "\n",
    "---\n",
    "\n",
    "* Python 2.0, released October 2000\n",
    "\n",
    "* Python 3.0, released December 2008\n",
    "\n",
    "* Most recent: Python 3.11, released October 2022\n",
    "  * Yearly release cycle\n"
   ]
  },
  {
   "cell_type": "code",
   "execution_count": null,
   "metadata": {},
   "outputs": [],
   "source": []
  },
  {
   "cell_type": "markdown",
   "metadata": {},
   "source": [
    "### 1.2 - Why Python?\n"
   ]
  },
  {
   "cell_type": "markdown",
   "metadata": {},
   "source": [
    "* Python is popular\n",
    "* Easy to learn\n",
    "* \"Glue\" language\n",
    "* Used by large and small companies and organizations\n",
    "* Multi-paradigm language (object-oriented, functional, ...)"
   ]
  },
  {
   "cell_type": "markdown",
   "metadata": {},
   "source": [
    "**Python is popular:**\n",
    "* https://www.tiobe.com/tiobe-index/\n",
    "\n",
    "![TIOBE Programming Language Index](https://github.com/ValRCS/python_public_resources/blob/main/img/tiobe-index-2023_08.png?raw=true)\n",
    "\n",
    "**\"Batteries\" included:**\n",
    "* A lot of functionality included in the [Python Standard Library](https://docs.python.org/3/library/)\n",
    "* Additional Python libraries available from the [Python Package Index](https://pypi.org/)\n",
    "\n",
    "![Batteries included](https://github.com/ValRCS/python_public_resources/blob/main/img/batteries.png?raw=true)"
   ]
  },
  {
   "cell_type": "markdown",
   "metadata": {},
   "source": [
    "### 1.3 - Python programming environment\n"
   ]
  },
  {
   "cell_type": "markdown",
   "metadata": {},
   "source": [
    "#### Python installation options\n",
    "\n",
    "a) Python website (standalone installation) https://www.python.org/downloads/\n",
    "\n",
    "b) Anaconda (includes many additional libraries and Jupyter Notebooks) https://www.anaconda.com/download/\n",
    "\n",
    "c) Google Colab (cloud service, no installation necessary - Google cloud version of Jupyter Notebooks) https://colab.research.google.com/\n"
   ]
  },
  {
   "cell_type": "markdown",
   "metadata": {},
   "source": [
    "#### Running Python\n",
    "\n",
    "Python = Interpreted Language (commands are executed one by one)\n",
    "- REPL(Read,Evaluate,Print Loop)\n",
    "\n",
    "Options for creating and running Python programs:\n",
    "\n",
    "a) by entering commands in the Python interpreter (REPL loop);\n",
    "\n",
    "b) in Jupyter notebooks (similar to using Python's REPL but executed in web-based notebooks);\n",
    "\n",
    "c) as stand-alone Python programs (by editing Python code in your editor of choice).\n"
   ]
  },
  {
   "cell_type": "markdown",
   "metadata": {},
   "source": [
    "#### How to open this file on Google Colab"
   ]
  },
  {
   "cell_type": "markdown",
   "metadata": {},
   "source": [
    "Open this Jupyter notebook (`week_1_Python_basics.ipynb`) on Github:\n",
    "- https://github.com/CaptSolo/LU_Python_2023/tree/main/notebooks\n",
    "\n",
    "Download the notebook file to your computer: click the \"Download raw file\" button.\n",
    "\n",
    "Open [Google Colab](https://colab.research.google.com/), choose the \"Upload\" tab and upload the downloaded notebook file.\n",
    "\n",
    "- Uploaded notebooks can be found in the [Google Drive](https://drive.google.com/) folder `Colab Notebooks`"
   ]
  },
  {
   "cell_type": "markdown",
   "metadata": {},
   "source": [
    "#### Using Jupyter notebooks\n",
    "\n",
    "In Jupyter Notebooks you work in cells that may contain Python code or specially formatted text (Markdown).\n",
    "\n",
    "These shortcuts work both in local Jupyter Notebooks and Google Colab:\n",
    "\n",
    "- Ctrl-Enter runs code of cell in place\n",
    "- Alt-Enter runs code for current cell and creates a new cell below\n",
    "- Esc-A creates a new cell above current cell\n",
    "- Esc-B creates a new cell below current cell\n",
    "\n",
    "These shortcuts do not work in Google Colab:\n",
    "\n",
    "- Esc-M turns cell into Markdown cell for formatting (https://guides.github.com/pdfs/markdown-cheatsheet-online.pdf)\n",
    "- Esc-Y turns cell into code cell(default)\n",
    "- Esc-dd deletes current cell\n"
   ]
  },
  {
   "cell_type": "code",
   "execution_count": 2,
   "metadata": {},
   "outputs": [],
   "source": [
    "# This is a Python comment\n",
    "\n",
    "# Try adding a new notebook cell and executing Python code in it"
   ]
  },
  {
   "cell_type": "code",
   "execution_count": null,
   "metadata": {},
   "outputs": [],
   "source": []
  },
  {
   "cell_type": "markdown",
   "metadata": {},
   "source": [
    "## Topic 2: - Syntax, Data Types, Values\n",
    "\n",
    "### 2.1 - Python Syntax"
   ]
  },
  {
   "cell_type": "markdown",
   "metadata": {},
   "source": [
    "#### A simple program:"
   ]
  },
  {
   "cell_type": "code",
   "execution_count": 1,
   "metadata": {},
   "outputs": [
    {
     "name": "stdout",
     "output_type": "stream",
     "text": [
      "Hello, world!\n"
     ]
    }
   ],
   "source": [
    "print(\"Hello, world!\")   # This is a comment"
   ]
  },
  {
   "cell_type": "code",
   "execution_count": 3,
   "metadata": {},
   "outputs": [
    {
     "name": "stdout",
     "output_type": "stream",
     "text": [
      "Hello, world!\n",
      "Some more text\n"
     ]
    }
   ],
   "source": [
    "# Every command starts on a new line\n",
    "# String values are delimited by ' or \"\n",
    "# Comments start with # and continue until the end of the line\n",
    "\n",
    "print(\"Hello, world!\")\n",
    "print(\"Some more text\")"
   ]
  },
  {
   "cell_type": "markdown",
   "metadata": {},
   "source": [
    "#### Print is a function. We can ask Python for help about it:"
   ]
  },
  {
   "cell_type": "code",
   "execution_count": 4,
   "metadata": {},
   "outputs": [
    {
     "name": "stdout",
     "output_type": "stream",
     "text": [
      "Help on built-in function print in module builtins:\n",
      "\n",
      "print(...)\n",
      "    print(value, ..., sep=' ', end='\\n', file=sys.stdout, flush=False)\n",
      "    \n",
      "    Prints the values to a stream, or to sys.stdout by default.\n",
      "    Optional keyword arguments:\n",
      "    file:  a file-like object (stream); defaults to the current sys.stdout.\n",
      "    sep:   string inserted between values, default a space.\n",
      "    end:   string appended after the last value, default a newline.\n",
      "    flush: whether to forcibly flush the stream.\n",
      "\n"
     ]
    }
   ],
   "source": [
    "help(print)"
   ]
  },
  {
   "cell_type": "code",
   "execution_count": 5,
   "metadata": {},
   "outputs": [
    {
     "name": "stdout",
     "output_type": "stream",
     "text": [
      "Some text followed by a number: 100\n"
     ]
    }
   ],
   "source": [
    "# Print can accept multiple values:\n",
    "\n",
    "print(\"Some text followed by a number:\", 100)"
   ]
  },
  {
   "cell_type": "code",
   "execution_count": null,
   "metadata": {},
   "outputs": [],
   "source": [
    "# Try printing something yourself:\n",
    "\n"
   ]
  },
  {
   "cell_type": "markdown",
   "metadata": {},
   "source": [
    "### 2.2 - Values and Data Types\n",
    "\n",
    "Everything in Python is an object\n",
    "* Objects have a type (with its properties and methods) and a value.\n",
    "* Some objects are mutable (can be changed), others are not.\n",
    "\n",
    "Simplest data types in Python:\n",
    "\n",
    "* Text strings = str\n",
    "* Numbers\n",
    "  * Integers (unlimited length) = int \n",
    "  * Floating point (double) numbers = float\n",
    "* Booleans = bool"
   ]
  },
  {
   "cell_type": "markdown",
   "metadata": {},
   "source": [
    "#### Text strings\n",
    "\n",
    "Strings are sequences of Unicode characters.\n",
    "\n",
    "Text is enclosed in ' or \" quotes."
   ]
  },
  {
   "cell_type": "code",
   "execution_count": 6,
   "metadata": {},
   "outputs": [
    {
     "data": {
      "text/plain": [
       "'This is my text'"
      ]
     },
     "execution_count": 6,
     "metadata": {},
     "output_type": "execute_result"
    }
   ],
   "source": [
    "'This is my text'"
   ]
  },
  {
   "cell_type": "code",
   "execution_count": 7,
   "metadata": {},
   "outputs": [
    {
     "data": {
      "text/plain": [
       "'Double quotes work too'"
      ]
     },
     "execution_count": 7,
     "metadata": {},
     "output_type": "execute_result"
    }
   ],
   "source": [
    "\"Double quotes work too\""
   ]
  },
  {
   "cell_type": "code",
   "execution_count": 8,
   "metadata": {},
   "outputs": [
    {
     "name": "stdout",
     "output_type": "stream",
     "text": [
      "This text contains \"quotes\".\n",
      "Another way how to include \"quotes\".\n"
     ]
    }
   ],
   "source": [
    "# A string may contain quotes:\n",
    "\n",
    "print('This text contains \"quotes\".')\n",
    "print(\"Another way how to include \\\"quotes\\\".\")"
   ]
  },
  {
   "cell_type": "code",
   "execution_count": 9,
   "metadata": {},
   "outputs": [
    {
     "data": {
      "text/plain": [
       "str"
      ]
     },
     "execution_count": 9,
     "metadata": {},
     "output_type": "execute_result"
    }
   ],
   "source": [
    "# Let's check the type of a text string object\n",
    "type('This is my text')"
   ]
  },
  {
   "cell_type": "code",
   "execution_count": 10,
   "metadata": {},
   "outputs": [
    {
     "data": {
      "text/plain": [
       "'This text\\nspans multiple\\nlines.\\n'"
      ]
     },
     "execution_count": 10,
     "metadata": {},
     "output_type": "execute_result"
    }
   ],
   "source": [
    "# You can also write multi-line strings with \"\"\" or '''\n",
    "\"\"\"This text\n",
    "spans multiple\n",
    "lines.\n",
    "\"\"\"\n",
    "\n",
    "# Notice: newline symbols are displayed as \\n"
   ]
  },
  {
   "cell_type": "code",
   "execution_count": 11,
   "metadata": {},
   "outputs": [
    {
     "name": "stdout",
     "output_type": "stream",
     "text": [
      "This text\n",
      "spans multiple\n",
      "lines.\n",
      "\n"
     ]
    }
   ],
   "source": [
    "print(\"\"\"This text\n",
    "spans multiple\n",
    "lines.\n",
    "\"\"\")"
   ]
  },
  {
   "cell_type": "code",
   "execution_count": 12,
   "metadata": {},
   "outputs": [
    {
     "data": {
      "text/plain": [
       "'First string and the second string'"
      ]
     },
     "execution_count": 12,
     "metadata": {},
     "output_type": "execute_result"
    }
   ],
   "source": [
    "# Strings can be concatenated using the + (plus) operator:\n",
    "\n",
    "\"First string\" + \" and the second string\""
   ]
  },
  {
   "cell_type": "markdown",
   "metadata": {},
   "source": [
    "#### Numbers, arithmetic operators\n",
    "\n",
    "Numbers can be:\n",
    "* Integers = integer numbers (unlimited length)\n",
    "* Floats = double precision floating point numbers"
   ]
  },
  {
   "cell_type": "code",
   "execution_count": 13,
   "metadata": {},
   "outputs": [
    {
     "data": {
      "text/plain": [
       "200000"
      ]
     },
     "execution_count": 13,
     "metadata": {},
     "output_type": "execute_result"
    }
   ],
   "source": [
    "# Integer value:\n",
    "\n",
    "200000"
   ]
  },
  {
   "cell_type": "code",
   "execution_count": 14,
   "metadata": {},
   "outputs": [
    {
     "data": {
      "text/plain": [
       "int"
      ]
     },
     "execution_count": 14,
     "metadata": {},
     "output_type": "execute_result"
    }
   ],
   "source": [
    "type(200000)"
   ]
  },
  {
   "cell_type": "code",
   "execution_count": 15,
   "metadata": {},
   "outputs": [
    {
     "data": {
      "text/plain": [
       "123456789012345678901234567890"
      ]
     },
     "execution_count": 15,
     "metadata": {},
     "output_type": "execute_result"
    }
   ],
   "source": [
    "# A longer integer:\n",
    "\n",
    "123456789012345678901234567890"
   ]
  },
  {
   "cell_type": "code",
   "execution_count": 16,
   "metadata": {},
   "outputs": [
    {
     "data": {
      "text/plain": [
       "3.14"
      ]
     },
     "execution_count": 16,
     "metadata": {},
     "output_type": "execute_result"
    }
   ],
   "source": [
    "# Floating point value:\n",
    "\n",
    "3.14"
   ]
  },
  {
   "cell_type": "code",
   "execution_count": 17,
   "metadata": {},
   "outputs": [
    {
     "data": {
      "text/plain": [
       "float"
      ]
     },
     "execution_count": 17,
     "metadata": {},
     "output_type": "execute_result"
    }
   ],
   "source": [
    "type(3.14)"
   ]
  },
  {
   "cell_type": "markdown",
   "metadata": {},
   "source": [
    "---\n",
    "\n",
    "**Numeric operations:**\n",
    "* https://docs.python.org/3/library/stdtypes.html#numeric-types-int-float-complex"
   ]
  },
  {
   "cell_type": "code",
   "execution_count": 18,
   "metadata": {},
   "outputs": [
    {
     "name": "stdout",
     "output_type": "stream",
     "text": [
      "5\n",
      "-1\n",
      "6\n",
      "0.6666666666666666\n"
     ]
    }
   ],
   "source": [
    "# Arithmetic operators\n",
    "\n",
    "print(2 + 3)\n",
    "print(2 - 3)\n",
    "print(2 * 3)\n",
    "print(2 / 3)"
   ]
  },
  {
   "cell_type": "code",
   "execution_count": 20,
   "metadata": {},
   "outputs": [
    {
     "name": "stdout",
     "output_type": "stream",
     "text": [
      "1\n",
      "2\n"
     ]
    }
   ],
   "source": [
    "# Integer division\n",
    "print(5 // 3)\n",
    "\n",
    "# Remainder (modulo) of 5 // 3 :\n",
    "print(5 % 3)"
   ]
  },
  {
   "cell_type": "code",
   "execution_count": 21,
   "metadata": {},
   "outputs": [
    {
     "data": {
      "text/plain": [
       "176"
      ]
     },
     "execution_count": 21,
     "metadata": {},
     "output_type": "execute_result"
    }
   ],
   "source": [
    "# We can use Python as a calculator:\n",
    "\n",
    "2 + 3 * (51 + 7)"
   ]
  },
  {
   "cell_type": "code",
   "execution_count": 22,
   "metadata": {},
   "outputs": [
    {
     "data": {
      "text/plain": [
       "1024"
      ]
     },
     "execution_count": 22,
     "metadata": {},
     "output_type": "execute_result"
    }
   ],
   "source": [
    "2 ** 10    # 2 to the power of 10"
   ]
  },
  {
   "cell_type": "code",
   "execution_count": 23,
   "metadata": {},
   "outputs": [
    {
     "data": {
      "text/plain": [
       "10000000000000000000000000000000000000000000000000000000000000000000000000000000000000000000000000000"
      ]
     },
     "execution_count": 23,
     "metadata": {},
     "output_type": "execute_result"
    }
   ],
   "source": [
    "# Googol = 10 to the power of 100\n",
    "\n",
    "10 ** 100"
   ]
  },
  {
   "cell_type": "code",
   "execution_count": 24,
   "metadata": {},
   "outputs": [
    {
     "name": "stdout",
     "output_type": "stream",
     "text": [
      "1000\n",
      "3\n"
     ]
    }
   ],
   "source": [
    "# Use int() to convert a value to an integer\n",
    "\n",
    "print(int(\"1000\"))\n",
    "print(int(3.14))"
   ]
  },
  {
   "cell_type": "code",
   "execution_count": 25,
   "metadata": {},
   "outputs": [
    {
     "name": "stdout",
     "output_type": "stream",
     "text": [
      "1000.0\n"
     ]
    }
   ],
   "source": [
    "# Use float() to convert a value to a floating point number\n",
    "\n",
    "print(float(\"1000\"))"
   ]
  },
  {
   "cell_type": "code",
   "execution_count": null,
   "metadata": {},
   "outputs": [],
   "source": [
    "# Use str() to convert a value into a string\n",
    "\n",
    "str(1000000)"
   ]
  },
  {
   "cell_type": "markdown",
   "metadata": {},
   "source": [
    "#### Boolean values\n",
    "\n",
    "Boolean values can be either True or False.\n"
   ]
  },
  {
   "cell_type": "code",
   "execution_count": 26,
   "metadata": {},
   "outputs": [
    {
     "data": {
      "text/plain": [
       "True"
      ]
     },
     "execution_count": 26,
     "metadata": {},
     "output_type": "execute_result"
    }
   ],
   "source": [
    "True"
   ]
  },
  {
   "cell_type": "code",
   "execution_count": 27,
   "metadata": {},
   "outputs": [
    {
     "data": {
      "text/plain": [
       "False"
      ]
     },
     "execution_count": 27,
     "metadata": {},
     "output_type": "execute_result"
    }
   ],
   "source": [
    "False"
   ]
  },
  {
   "cell_type": "code",
   "execution_count": 28,
   "metadata": {},
   "outputs": [
    {
     "data": {
      "text/plain": [
       "bool"
      ]
     },
     "execution_count": 28,
     "metadata": {},
     "output_type": "execute_result"
    }
   ],
   "source": [
    "type(True)"
   ]
  },
  {
   "cell_type": "markdown",
   "metadata": {},
   "source": [
    "**Truth value testing**\n",
    "\n",
    "Any value (any object) can be tested to see if it converts to True or False:\n",
    "* https://docs.python.org/3/library/stdtypes.html#truth-value-testing\n",
    "\n",
    "Most values are interpreted as True except:\n",
    "  * constants that are False: False, None\n",
    "  * zero: 0, 0.0\n",
    "  * empty strings and other empty sequences or collections: \"\", [], ..."
   ]
  },
  {
   "cell_type": "code",
   "execution_count": 29,
   "metadata": {},
   "outputs": [
    {
     "data": {
      "text/plain": [
       "False"
      ]
     },
     "execution_count": 29,
     "metadata": {},
     "output_type": "execute_result"
    }
   ],
   "source": [
    "bool(0.0)"
   ]
  },
  {
   "cell_type": "code",
   "execution_count": 30,
   "metadata": {},
   "outputs": [
    {
     "data": {
      "text/plain": [
       "False"
      ]
     },
     "execution_count": 30,
     "metadata": {},
     "output_type": "execute_result"
    }
   ],
   "source": [
    "bool(\"\")"
   ]
  },
  {
   "cell_type": "code",
   "execution_count": 31,
   "metadata": {},
   "outputs": [
    {
     "data": {
      "text/plain": [
       "True"
      ]
     },
     "execution_count": 31,
     "metadata": {},
     "output_type": "execute_result"
    }
   ],
   "source": [
    "bool(100)"
   ]
  },
  {
   "cell_type": "markdown",
   "metadata": {},
   "source": [
    "**Boolean operations**\n",
    "\n",
    "Python supports the Boolean operations \"and\", \"or\" and \"not\":\n",
    "* https://docs.python.org/3/library/stdtypes.html#boolean-operations-and-or-not"
   ]
  },
  {
   "cell_type": "code",
   "execution_count": 32,
   "metadata": {},
   "outputs": [
    {
     "data": {
      "text/plain": [
       "False"
      ]
     },
     "execution_count": 32,
     "metadata": {},
     "output_type": "execute_result"
    }
   ],
   "source": [
    "True and False"
   ]
  },
  {
   "cell_type": "code",
   "execution_count": 33,
   "metadata": {},
   "outputs": [
    {
     "data": {
      "text/plain": [
       "True"
      ]
     },
     "execution_count": 33,
     "metadata": {},
     "output_type": "execute_result"
    }
   ],
   "source": [
    "True or False"
   ]
  },
  {
   "cell_type": "code",
   "execution_count": 34,
   "metadata": {},
   "outputs": [
    {
     "data": {
      "text/plain": [
       "False"
      ]
     },
     "execution_count": 34,
     "metadata": {},
     "output_type": "execute_result"
    }
   ],
   "source": [
    "not True"
   ]
  },
  {
   "cell_type": "markdown",
   "metadata": {},
   "source": [
    "#### Topic 2 - mini exercise\n",
    "\n",
    "* use Python as a calculator"
   ]
  },
  {
   "cell_type": "code",
   "execution_count": 35,
   "metadata": {},
   "outputs": [
    {
     "data": {
      "text/plain": [
       "765.0"
      ]
     },
     "execution_count": 35,
     "metadata": {},
     "output_type": "execute_result"
    }
   ],
   "source": [
    "13.3 * 50 + 100"
   ]
  },
  {
   "cell_type": "code",
   "execution_count": 36,
   "metadata": {},
   "outputs": [
    {
     "name": "stdout",
     "output_type": "stream",
     "text": [
      "765.0\n"
     ]
    }
   ],
   "source": [
    "print(13.3 * 50 + 100)"
   ]
  },
  {
   "cell_type": "markdown",
   "metadata": {},
   "source": [
    "## Topic 3: - Variables, Operators\n",
    "\n",
    "**Operators** are special symbols that tell Python that some computation should be performed. Operators combine Python objects into **expressions**.\n",
    "\n",
    "We already looked at the arithmetic and logical operators. In this topic we will cover the assignment operator (=) and comparison operators.\n",
    "\n",
    "First, let's look at **variables**."
   ]
  },
  {
   "cell_type": "markdown",
   "metadata": {},
   "source": [
    "### 3.1 - Variables\n",
    "\n",
    "**Variables** allow us to give a name to an object / to a value.\n",
    "* Think of a variable as a name attached to an object (or a name on a \"box\" which contains the object)\n",
    "\n",
    "Variables are assigned values using the assignment operator: `=`\n",
    "\n",
    "In Python, you do not need to declare a variable in advance – just assign it a value and start using it."
   ]
  },
  {
   "cell_type": "code",
   "execution_count": 37,
   "metadata": {},
   "outputs": [],
   "source": [
    "# define a variable\n",
    "my_variable = 3.14"
   ]
  },
  {
   "cell_type": "code",
   "execution_count": 38,
   "metadata": {},
   "outputs": [
    {
     "name": "stdout",
     "output_type": "stream",
     "text": [
      "3.14\n"
     ]
    }
   ],
   "source": [
    "# refer to the variable value\n",
    "print(my_variable)"
   ]
  },
  {
   "cell_type": "code",
   "execution_count": 39,
   "metadata": {},
   "outputs": [
    {
     "name": "stdout",
     "output_type": "stream",
     "text": [
      "1000\n"
     ]
    }
   ],
   "source": [
    "# you can later change the value to something else \n",
    "# (the variable will point to the new value then)\n",
    "\n",
    "my_variable = 1000\n",
    "print(my_variable)"
   ]
  },
  {
   "cell_type": "markdown",
   "metadata": {},
   "source": [
    "Objects (values of variables) have type but variables themselves do not have type – their value and its corresponding type can change:"
   ]
  },
  {
   "cell_type": "code",
   "execution_count": 40,
   "metadata": {},
   "outputs": [
    {
     "name": "stdout",
     "output_type": "stream",
     "text": [
      "I am a text string now!\n"
     ]
    }
   ],
   "source": [
    "my_variable = \"I am a text string now!\"\n",
    "print(my_variable)"
   ]
  },
  {
   "cell_type": "code",
   "execution_count": 41,
   "metadata": {},
   "outputs": [],
   "source": [
    "# Multiple variables can point to the same object:\n",
    "new_name = my_variable"
   ]
  },
  {
   "cell_type": "markdown",
   "metadata": {},
   "source": [
    "You can use variables in expressions:"
   ]
  },
  {
   "cell_type": "code",
   "execution_count": 42,
   "metadata": {},
   "outputs": [
    {
     "name": "stdout",
     "output_type": "stream",
     "text": [
      "Radius: 5\n",
      "Area: 78.53975\n"
     ]
    }
   ],
   "source": [
    "pi = 3.14159\n",
    "radius = 5\n",
    "\n",
    "# area of a circle\n",
    "area = pi * (radius ** 2)\n",
    "\n",
    "print(\"Radius:\", radius)\n",
    "print(\"Area:\", area)"
   ]
  },
  {
   "cell_type": "markdown",
   "metadata": {},
   "source": [
    "### Variable naming conventions\n",
    "\n",
    "Naming convetions can be found at https://www.python.org/dev/peps/pep-0008/#naming-conventions\n",
    "\n",
    "Core naming convention:\n",
    "* Names should be descriptive and not too long\n",
    "* we use lowercase letters and underscores to separate words in multi-word names\n",
    "* we avoid using names that are too general (like \"data\" or \"value\")\n",
    "* we avoid short names (like \"a\" or \"x\") if it is not appropriate to problem domain"
   ]
  },
  {
   "cell_type": "code",
   "execution_count": 43,
   "metadata": {},
   "outputs": [],
   "source": [
    "# some good and bad variable names\n",
    "# good variable names:\n",
    "radius = 7\n",
    "area_of_circle = pi * (radius ** 2)\n",
    "\n",
    "# not so great variable names:\n",
    "r = 7\n",
    "a_o_c = pi * (r ** 2)\n",
    "\n",
    "# bad variable names:\n",
    "x = 7\n",
    "y = pi * (x ** 2)\n",
    "# x and y are not very descriptive for this purpose\n"
   ]
  },
  {
   "cell_type": "markdown",
   "metadata": {},
   "source": [
    "### Constants in Python\n",
    "\n",
    "Constants are usually named using all capital letters.\n",
    "Python does not have a special syntax for constants.\n",
    "Constants are just variables that are not supposed to change."
   ]
  },
  {
   "cell_type": "code",
   "execution_count": null,
   "metadata": {},
   "outputs": [],
   "source": [
    "#\n",
    "PI = 3.1415926\n",
    "GOLDEN_MEAN = 1.6180339887\n",
    "\n",
    "# again you could theoretically change these values later\n",
    "# just that you should not do it!\n"
   ]
  },
  {
   "cell_type": "code",
   "execution_count": null,
   "metadata": {},
   "outputs": [],
   "source": []
  },
  {
   "cell_type": "markdown",
   "metadata": {},
   "source": [
    "### 3.2 - Comparison Operators\n"
   ]
  },
  {
   "cell_type": "markdown",
   "metadata": {},
   "source": [
    "**Comparison operators** lets us compare values and return a boolean value with the result of the comparison. There are value comparison operators and identity comparison operators.\n",
    "\n",
    "These operators can be used with objects of various types (although some object types may not implement all comparison operators).\n",
    "\n",
    "Value comparison operators:\n",
    "* `==` equal\n",
    "* `!=` not equal\n",
    "* `<` strictly less than\n",
    "* `<=` less than or equal\n",
    "* `>` strictly greater than\n",
    "* `>=` greater than or equal"
   ]
  },
  {
   "cell_type": "code",
   "execution_count": 44,
   "metadata": {},
   "outputs": [
    {
     "data": {
      "text/plain": [
       "True"
      ]
     },
     "execution_count": 44,
     "metadata": {},
     "output_type": "execute_result"
    }
   ],
   "source": [
    "5 == 5"
   ]
  },
  {
   "cell_type": "code",
   "execution_count": 45,
   "metadata": {},
   "outputs": [
    {
     "name": "stdout",
     "output_type": "stream",
     "text": [
      "False\n",
      "True\n",
      "False\n"
     ]
    }
   ],
   "source": [
    "print(5 != 5)\n",
    "print(5 < 6)\n",
    "print(5 >= 6)"
   ]
  },
  {
   "cell_type": "code",
   "execution_count": 46,
   "metadata": {},
   "outputs": [
    {
     "name": "stdout",
     "output_type": "stream",
     "text": [
      "True\n",
      "True\n"
     ]
    }
   ],
   "source": [
    "# numbers of different types can be compared, too:\n",
    "\n",
    "print(0 == 0.0)\n",
    "print(5 > 4.5)"
   ]
  },
  {
   "cell_type": "code",
   "execution_count": 47,
   "metadata": {},
   "outputs": [
    {
     "name": "stdout",
     "output_type": "stream",
     "text": [
      "True\n",
      "True\n"
     ]
    }
   ],
   "source": [
    "# you can also compare strings:\n",
    "\n",
    "print(\"this\" != \"that\")\n",
    "print(\"this\" == \"this\")"
   ]
  },
  {
   "cell_type": "code",
   "execution_count": 48,
   "metadata": {},
   "outputs": [
    {
     "data": {
      "text/plain": [
       "False"
      ]
     },
     "execution_count": 48,
     "metadata": {},
     "output_type": "execute_result"
    }
   ],
   "source": [
    "# strings can be smaller or larger than one another\n",
    "\n",
    "# strings are compared character by character until you find a character that is different. \n",
    "# character codes are then compared.\n",
    "\n",
    "\"this\" < \"that\""
   ]
  },
  {
   "cell_type": "code",
   "execution_count": 49,
   "metadata": {},
   "outputs": [
    {
     "data": {
      "text/plain": [
       "105"
      ]
     },
     "execution_count": 49,
     "metadata": {},
     "output_type": "execute_result"
    }
   ],
   "source": [
    "ord(\"i\")"
   ]
  },
  {
   "cell_type": "code",
   "execution_count": 50,
   "metadata": {},
   "outputs": [
    {
     "data": {
      "text/plain": [
       "97"
      ]
     },
     "execution_count": 50,
     "metadata": {},
     "output_type": "execute_result"
    }
   ],
   "source": [
    "ord(\"a\")"
   ]
  },
  {
   "cell_type": "code",
   "execution_count": 51,
   "metadata": {},
   "outputs": [
    {
     "name": "stdout",
     "output_type": "stream",
     "text": [
      "Area of this circle is larger than 50\n",
      "More text here\n"
     ]
    }
   ],
   "source": [
    "# comparison operators are used in flow control (e.g. `if` statement)\n",
    "\n",
    "if area > 50:\n",
    "    print(\"Area of this circle is larger than 50\")\n",
    "    print(\"More text here\")\n",
    "\n",
    "# we will cover flow control in another lecture"
   ]
  },
  {
   "cell_type": "markdown",
   "metadata": {},
   "source": [
    "---\n",
    "\n",
    "Identity comparison operators check if two values refer to the same object:\n",
    "* `is` object identity (checks that two values are the same object)\n",
    "* `is not` negated object identity (checks that two values are different objects)"
   ]
  },
  {
   "cell_type": "code",
   "execution_count": 52,
   "metadata": {},
   "outputs": [
    {
     "name": "stdout",
     "output_type": "stream",
     "text": [
      "True\n",
      "False\n"
     ]
    }
   ],
   "source": [
    "a = 124\n",
    "b = 124.0\n",
    "\n",
    "# same value but different objects\n",
    "print(a == b)\n",
    "print(a is b)"
   ]
  },
  {
   "cell_type": "markdown",
   "metadata": {},
   "source": [
    "#### Topic 3 - mini exercise\n",
    "\n",
    "- store a text string in a variable\n",
    "- store a Boolean value in another variable\n",
    "- check what is the result of using the Boolean \"or\" and \"and\" between the bool variable and the variable containing a text string"
   ]
  },
  {
   "cell_type": "code",
   "execution_count": 55,
   "metadata": {},
   "outputs": [
    {
     "name": "stdout",
     "output_type": "stream",
     "text": [
      "Teksts\n"
     ]
    }
   ],
   "source": [
    "my_text = \"Teksts\"\n",
    "my_bool = False\n",
    "\n",
    "print(my_bool or my_text)"
   ]
  },
  {
   "cell_type": "markdown",
   "metadata": {},
   "source": [
    "## Lesson Summary\n",
    "\n",
    "In this lesson we have learned about:\n",
    "\n",
    "* how interact with the **Python interpreter**.\n",
    "* how to write simple **Python programs**.\n",
    "* **values and simple data types**\n",
    "* **arithmetic operators**.\n",
    "* Python **variables** and **constants**.\n",
    "* using **comparison operators**."
   ]
  },
  {
   "cell_type": "markdown",
   "metadata": {},
   "source": [
    "## Exercises for further practice\n",
    "\n"
   ]
  },
  {
   "cell_type": "markdown",
   "metadata": {},
   "source": [
    "### Exercise 1:\n",
    "\n",
    "- store some integer value in a variable (e.g., `value`)\n",
    "- let a user input an integer value\n",
    "- compare the value entered by a user with the value of the `value` variable\n",
    "    - print out a message saying if the value entered is larger, smaller or equal to the value of the `value` variable "
   ]
  },
  {
   "cell_type": "code",
   "execution_count": 61,
   "metadata": {},
   "outputs": [
    {
     "name": "stdin",
     "output_type": "stream",
     "text": [
      "Ievadi skaitli:  10\n"
     ]
    },
    {
     "name": "stdout",
     "output_type": "stream",
     "text": [
      "Urā! Uzminēji skaitli!\n"
     ]
    }
   ],
   "source": [
    "value = 10\n",
    "\n",
    "user_in = input(\"Ievadi skaitli: \")\n",
    "user_int = int(user_in)\n",
    "\n",
    "if user_int == value:\n",
    "    print(\"Urā! Uzminēji skaitli!\")\n",
    "\n",
    "else:\n",
    "    print(\"Neuzminēji vis\")"
   ]
  },
  {
   "cell_type": "markdown",
   "metadata": {},
   "source": [
    "### Exercise 2:\n",
    "\n",
    "Identify the two code blocks in the following Python program:"
   ]
  },
  {
   "cell_type": "code",
   "execution_count": 56,
   "metadata": {},
   "outputs": [
    {
     "name": "stdout",
     "output_type": "stream",
     "text": [
      "The length of this text value is larger than 10\n"
     ]
    }
   ],
   "source": [
    "my_text = \"This is an example text value\"\n",
    "\n",
    "if len(my_text) > 10:\n",
    "    print(\"The length of this text value is larger than 10\")\n",
    "\n",
    "    if len(my_text) > 30:\n",
    "        print(\"This is a rather long text:\")\n",
    "        print(my_text)"
   ]
  },
  {
   "cell_type": "code",
   "execution_count": 57,
   "metadata": {},
   "outputs": [
    {
     "name": "stdout",
     "output_type": "stream",
     "text": [
      "29\n"
     ]
    }
   ],
   "source": [
    "print(len(my_text))"
   ]
  },
  {
   "cell_type": "markdown",
   "metadata": {},
   "source": [
    "## Additional Resources\n",
    "\n",
    "### Topic 1 - Python for Everybody\n",
    "\n",
    "- [Dr. Charles Severence](https://www.py4e.com/book) \n",
    "\n",
    "### Topic 2 - Microsoft for Python\n",
    "\n",
    "- [Microsoft Course](https://learn.microsoft.com/en-us/training/modules/intro-to-python/)\n",
    "\n",
    "### Topic 3 - Google Course for Python\n",
    "\n",
    "- [Google Dev Course](https://developers.google.com/edu/python)\n"
   ]
  },
  {
   "cell_type": "code",
   "execution_count": null,
   "metadata": {},
   "outputs": [],
   "source": []
  }
 ],
 "metadata": {
  "kernelspec": {
   "display_name": "Python 3 (ipykernel)",
   "language": "python",
   "name": "python3"
  },
  "language_info": {
   "codemirror_mode": {
    "name": "ipython",
    "version": 3
   },
   "file_extension": ".py",
   "mimetype": "text/x-python",
   "name": "python",
   "nbconvert_exporter": "python",
   "pygments_lexer": "ipython3",
   "version": "3.9.16"
  }
 },
 "nbformat": 4,
 "nbformat_minor": 4
}
