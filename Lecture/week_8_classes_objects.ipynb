{
 "cells": [
  {
   "cell_type": "markdown",
   "metadata": {},
   "source": [
    "![LU Logo](https://www.df.lu.lv/fileadmin/user_upload/LU.LV/Apaksvietnes/Fakultates/www.df.lu.lv/Par_mums/Logo/DF_logo/01_DF_logo_LV.png)"
   ]
  },
  {
   "cell_type": "markdown",
   "metadata": {},
   "source": [
    "# Week 8 - Object Oriented Programming\n",
    "\n",
    "We will cover the following topics:\n",
    "\n",
    "* classes and objects\n",
    "* encapsulation, polymorphism\n",
    "* inheritance, composition\n",
    "\n",
    "## Prerequisites\n",
    "\n",
    "* Basic Python syntax\n",
    "* Basic Python data types\n",
    "* Basic Python operators\n",
    "* Conditional statements, branching with if, elif, else\n",
    "* Loops: for and while\n",
    "* Functions\n",
    "* imports, modules and packages\n",
    "* Data structures: lists, tuples, dictionaries, sets\n",
    "* File I/O\n",
    "\n",
    "## Lesson Objectives\n",
    "\n",
    "At the end of this lesson you should be able to:\n",
    "\n",
    "* Understand the concept of object oriented programming\n",
    "* Be able to create a class\n",
    "* Be able to create an object\n",
    "* Understand the difference between a class and an object\n",
    "* Understand the difference between a class attribute and an instance attribute\n",
    "* Understand the difference between a class method and an instance method\n",
    "* Understand the difference between inheritance and composition\n",
    "* Understand the difference between encapsulation and polymorphism\n"
   ]
  },
  {
   "cell_type": "markdown",
   "metadata": {},
   "source": [
    "### Import required libraries"
   ]
  },
  {
   "cell_type": "code",
   "execution_count": null,
   "metadata": {},
   "outputs": [],
   "source": [
    "# generally imports go at the top of a notebook\n",
    "# python version\n",
    "import sys\n",
    "print(f\"Python version: {sys.version}\")"
   ]
  },
  {
   "cell_type": "markdown",
   "metadata": {},
   "source": [
    "### Topic 1: - classes and objects\n",
    "\n",
    "#### Idea of Object Oriented Programming\n",
    "\n",
    "* OOP is a programming paradigm that provides a means of structuring programs so that properties and behaviors are bundled into individual objects.\n",
    "* OOP arose in 1960s and 1970s as a response to the problems that arose with older paradigms of programming.\n",
    "* OOP is a programming paradigm based on the concept of \"objects\", which can contain data and code:\n",
    "  * Data in the form of fields (often known as attributes or properties).\n",
    "  * Code, in the form of procedures (often known as methods).\n",
    " \n",
    "---\n",
    "\n",
    "* A feature of objects is that an object's procedures can access and often modify the data fields of the object with which they are associated \n",
    "* (objects have a notion of \"this\" or \"self\").\n",
    "\n",
    "---\n",
    "\n",
    "* In OOP, computer programs are designed by making them out of objects that interact with one another.\n",
    "* OOP languages are diverse, but the most popular ones are class-based, meaning that objects are instances of classes.\n"
   ]
  },
  {
   "cell_type": "code",
   "execution_count": 10,
   "metadata": {},
   "outputs": [
    {
     "name": "stdout",
     "output_type": "stream",
     "text": [
      "<__main__.Simple_Robot object at 0x10b917cd0>\n"
     ]
    }
   ],
   "source": [
    "# Creating Python classes\n",
    "\n",
    "# A class is a blueprint for the object.\n",
    "\n",
    "# We can think of class as a blueprint for say a robot (or a car or a dog) \n",
    "# and an object as a specific instance of the class.\n",
    "\n",
    "# let's create a Robot class\n",
    "\n",
    "class Simple_Robot:\n",
    "    \"\"\"\n",
    "    This class does nothing.\n",
    "    \"\"\"\n",
    "    pass # empty command\n",
    "\n",
    "# let's create an object of the class\n",
    "robbie = Simple_Robot()\n",
    "\n",
    "print(robbie) # prints the memory location of the object by default"
   ]
  },
  {
   "cell_type": "code",
   "execution_count": 11,
   "metadata": {},
   "outputs": [
    {
     "name": "stdout",
     "output_type": "stream",
     "text": [
      "Help on Simple_Robot in module __main__ object:\n",
      "\n",
      "class Simple_Robot(builtins.object)\n",
      " |  This class does nothing.\n",
      " |  \n",
      " |  Data descriptors defined here:\n",
      " |  \n",
      " |  __dict__\n",
      " |      dictionary for instance variables (if defined)\n",
      " |  \n",
      " |  __weakref__\n",
      " |      list of weak references to the object (if defined)\n",
      "\n"
     ]
    }
   ],
   "source": [
    "help(robbie)"
   ]
  },
  {
   "cell_type": "code",
   "execution_count": 12,
   "metadata": {},
   "outputs": [
    {
     "name": "stdout",
     "output_type": "stream",
     "text": [
      "red\n",
      "30\n"
     ]
    }
   ],
   "source": [
    "# such object is called an instance of the class\n",
    "# here we have no custom attributes or methods, so the object is empty\n",
    "# we could add some attributes to the object\n",
    "robbie.color = \"red\"\n",
    "robbie.weight = 30\n",
    "\n",
    "# this is not the best way to add attributes to the class, we will see a better way in the next example\n",
    "print(robbie.color)\n",
    "print(robbie.weight)"
   ]
  },
  {
   "cell_type": "code",
   "execution_count": 13,
   "metadata": {},
   "outputs": [],
   "source": [
    "# it would be nicer to have a way to add attributes to the object when we create it\n",
    "# let's make a Robot class that has a name and a color\n",
    "\n",
    "class Robot:\n",
    "    # __init__ is so called \"magic method\" that is called when we create a new object\n",
    "    # it is used to initialize the object's attributes\n",
    "    \n",
    "    # __init__ is called automatically when we create a new object, it is not called explicitly\n",
    "    # __init__ is closely related to constructors in other languages\n",
    "    #   (but it is not 100% the same, because of time of execution)\n",
    "    \n",
    "    # self is a reference to the object itself\n",
    "    def __init__(self, name, color, weight):\n",
    "        self.name = name # we assign the name passed to the object to the object's name attribute\n",
    "        self.color = color\n",
    "        self.weight = weight\n",
    "\n",
    "    def say_hi(self):\n",
    "        # this is a custom method that we can call on the object\n",
    "        # note the use of self to access the object's attributes\n",
    "        print(\"Hi, my name is \" + self.name) # so method can access the object's attributes using self"
   ]
  },
  {
   "cell_type": "code",
   "execution_count": 14,
   "metadata": {},
   "outputs": [
    {
     "name": "stdout",
     "output_type": "stream",
     "text": [
      "Hi, my name is Arnie\n",
      "\n",
      "Hi, my name is Bob\n"
     ]
    }
   ],
   "source": [
    "# let's create some robots and see how they work\n",
    "\n",
    "arnie = Robot(\"Arnie\", \"mettallic\", 180) # note we passed in 3 arguments, but self is not passed in\n",
    "arnie.say_hi() # notice we do not pass in any arguments, but self is passed in automatically!\n",
    "print()\n",
    "\n",
    "bob = Robot(\"Bob\", \"plastic\", 120)\n",
    "bob.say_hi()"
   ]
  },
  {
   "cell_type": "code",
   "execution_count": 15,
   "metadata": {},
   "outputs": [
    {
     "name": "stdout",
     "output_type": "stream",
     "text": [
      "<__main__.Robot object at 0x10d4bd4f0>\n"
     ]
    }
   ],
   "source": [
    "print(arnie)"
   ]
  },
  {
   "cell_type": "code",
   "execution_count": 16,
   "metadata": {},
   "outputs": [
    {
     "data": {
      "text/plain": [
       "['__class__',\n",
       " '__delattr__',\n",
       " '__dict__',\n",
       " '__dir__',\n",
       " '__doc__',\n",
       " '__eq__',\n",
       " '__format__',\n",
       " '__ge__',\n",
       " '__getattribute__',\n",
       " '__gt__',\n",
       " '__hash__',\n",
       " '__init__',\n",
       " '__init_subclass__',\n",
       " '__le__',\n",
       " '__lt__',\n",
       " '__module__',\n",
       " '__ne__',\n",
       " '__new__',\n",
       " '__reduce__',\n",
       " '__reduce_ex__',\n",
       " '__repr__',\n",
       " '__setattr__',\n",
       " '__sizeof__',\n",
       " '__str__',\n",
       " '__subclasshook__',\n",
       " '__weakref__',\n",
       " 'color',\n",
       " 'name',\n",
       " 'say_hi',\n",
       " 'weight']"
      ]
     },
     "execution_count": 16,
     "metadata": {},
     "output_type": "execute_result"
    }
   ],
   "source": [
    "dir(arnie)"
   ]
  },
  {
   "cell_type": "markdown",
   "metadata": {},
   "source": [
    "### 1.2 - Dunder methods\n",
    "\n",
    "Dunder methods are special methods that are used to emulate or override some built-in behaviour in Python.\n",
    "\n",
    "They are recognizable by the double underscores at the beginning and end of their names. For example, the `__init__` method is a dunder method that is used to initialize a newly created object.\n",
    "\n",
    "A full list of special methods: https://docs.python.org/3/reference/datamodel.html#special-method-names"
   ]
  },
  {
   "cell_type": "code",
   "execution_count": 18,
   "metadata": {},
   "outputs": [],
   "source": [
    "## When we printed an object we got a string representation of the object \n",
    "## and its location in memory.\n",
    "\n",
    "## We can change this by defining a special method called __str__().\n",
    "\n",
    "## Let's create a UFO class and define the __str__() method.\n",
    "\n",
    "class UFO:\n",
    "    def __init__(self, x, y):\n",
    "        self.x = x\n",
    "        self.y = y\n",
    "        \n",
    "    def __str__(self):\n",
    "        return f\"UFO at ({self.x}, {self.y})\"\n",
    "    \n",
    "    # we have many more special methods we can define\n",
    "    # let's define addition for our UFO class\n",
    "    def __add__(self, other):\n",
    "        return UFO(self.x + other.x, self.y + other.y) # this returns a new UFO object with new coordinates"
   ]
  },
  {
   "cell_type": "code",
   "execution_count": 19,
   "metadata": {},
   "outputs": [
    {
     "name": "stdout",
     "output_type": "stream",
     "text": [
      "UFO at (10, 20)\n"
     ]
    }
   ],
   "source": [
    "ufo = UFO(10, 20)\n",
    "print(ufo) # now we get to see the string representation of the object"
   ]
  },
  {
   "cell_type": "code",
   "execution_count": 20,
   "metadata": {},
   "outputs": [
    {
     "name": "stdout",
     "output_type": "stream",
     "text": [
      "UFO at (1000, 2000)\n",
      "\n",
      "UFO at (1010, 2020)\n"
     ]
    }
   ],
   "source": [
    "weather_balloon = UFO(1000, 2000)\n",
    "print(weather_balloon)\n",
    "print()\n",
    "\n",
    "# let's add the two UFOs together thus creating a new UFO object\n",
    "ufo_weather_balloon = ufo + weather_balloon\n",
    "print(ufo_weather_balloon)"
   ]
  },
  {
   "cell_type": "markdown",
   "metadata": {},
   "source": [
    "### (Almost) everything in Python is an object"
   ]
  },
  {
   "cell_type": "code",
   "execution_count": 21,
   "metadata": {},
   "outputs": [
    {
     "data": {
      "text/plain": [
       "'145'"
      ]
     },
     "execution_count": 21,
     "metadata": {},
     "output_type": "execute_result"
    }
   ],
   "source": [
    "# strings are objects with different methods such as replace():\n",
    "\"123\".replace(\"23\", \"45\")"
   ]
  },
  {
   "cell_type": "code",
   "execution_count": 22,
   "metadata": {},
   "outputs": [
    {
     "data": {
      "text/plain": [
       "['__add__',\n",
       " '__class__',\n",
       " '__contains__',\n",
       " '__delattr__',\n",
       " '__dir__',\n",
       " '__doc__',\n",
       " '__eq__',\n",
       " '__format__',\n",
       " '__ge__',\n",
       " '__getattribute__',\n",
       " '__getitem__',\n",
       " '__getnewargs__',\n",
       " '__gt__',\n",
       " '__hash__',\n",
       " '__init__',\n",
       " '__init_subclass__',\n",
       " '__iter__',\n",
       " '__le__',\n",
       " '__len__',\n",
       " '__lt__',\n",
       " '__mod__',\n",
       " '__mul__',\n",
       " '__ne__',\n",
       " '__new__',\n",
       " '__reduce__',\n",
       " '__reduce_ex__',\n",
       " '__repr__',\n",
       " '__rmod__',\n",
       " '__rmul__',\n",
       " '__setattr__',\n",
       " '__sizeof__',\n",
       " '__str__',\n",
       " '__subclasshook__',\n",
       " 'capitalize',\n",
       " 'casefold',\n",
       " 'center',\n",
       " 'count',\n",
       " 'encode',\n",
       " 'endswith',\n",
       " 'expandtabs',\n",
       " 'find',\n",
       " 'format',\n",
       " 'format_map',\n",
       " 'index',\n",
       " 'isalnum',\n",
       " 'isalpha',\n",
       " 'isascii',\n",
       " 'isdecimal',\n",
       " 'isdigit',\n",
       " 'isidentifier',\n",
       " 'islower',\n",
       " 'isnumeric',\n",
       " 'isprintable',\n",
       " 'isspace',\n",
       " 'istitle',\n",
       " 'isupper',\n",
       " 'join',\n",
       " 'ljust',\n",
       " 'lower',\n",
       " 'lstrip',\n",
       " 'maketrans',\n",
       " 'partition',\n",
       " 'removeprefix',\n",
       " 'removesuffix',\n",
       " 'replace',\n",
       " 'rfind',\n",
       " 'rindex',\n",
       " 'rjust',\n",
       " 'rpartition',\n",
       " 'rsplit',\n",
       " 'rstrip',\n",
       " 'split',\n",
       " 'splitlines',\n",
       " 'startswith',\n",
       " 'strip',\n",
       " 'swapcase',\n",
       " 'title',\n",
       " 'translate',\n",
       " 'upper',\n",
       " 'zfill']"
      ]
     },
     "execution_count": 22,
     "metadata": {},
     "output_type": "execute_result"
    }
   ],
   "source": [
    "dir(\"123\")"
   ]
  },
  {
   "cell_type": "code",
   "execution_count": 23,
   "metadata": {},
   "outputs": [
    {
     "name": "stdout",
     "output_type": "stream",
     "text": [
      "Help on wrapper_descriptor:\n",
      "\n",
      "__add__(self, value, /)\n",
      "    Return self+value.\n",
      "\n"
     ]
    }
   ],
   "source": [
    "help(str.__add__)"
   ]
  },
  {
   "cell_type": "code",
   "execution_count": 24,
   "metadata": {},
   "outputs": [
    {
     "data": {
      "text/plain": [
       "'123abc'"
      ]
     },
     "execution_count": 24,
     "metadata": {},
     "output_type": "execute_result"
    }
   ],
   "source": [
    "\"123\" + \"abc\""
   ]
  },
  {
   "cell_type": "code",
   "execution_count": 25,
   "metadata": {},
   "outputs": [
    {
     "name": "stdout",
     "output_type": "stream",
     "text": [
      "Help on method_descriptor:\n",
      "\n",
      "replace(self, old, new, count=-1, /)\n",
      "    Return a copy with all occurrences of substring old replaced by new.\n",
      "    \n",
      "      count\n",
      "        Maximum number of occurrences to replace.\n",
      "        -1 (the default value) means replace all occurrences.\n",
      "    \n",
      "    If the optional argument count is given, only the first count occurrences are\n",
      "    replaced.\n",
      "\n"
     ]
    }
   ],
   "source": [
    "help(str.replace)"
   ]
  },
  {
   "cell_type": "code",
   "execution_count": 26,
   "metadata": {},
   "outputs": [],
   "source": [
    "from collections import Counter\n",
    "\n",
    "c = Counter(\"kaut kāds teksts un vēl cits teksts\".split())"
   ]
  },
  {
   "cell_type": "code",
   "execution_count": 27,
   "metadata": {},
   "outputs": [
    {
     "data": {
      "text/plain": [
       "['__add__',\n",
       " '__and__',\n",
       " '__class__',\n",
       " '__class_getitem__',\n",
       " '__contains__',\n",
       " '__delattr__',\n",
       " '__delitem__',\n",
       " '__dict__',\n",
       " '__dir__',\n",
       " '__doc__',\n",
       " '__eq__',\n",
       " '__format__',\n",
       " '__ge__',\n",
       " '__getattribute__',\n",
       " '__getitem__',\n",
       " '__gt__',\n",
       " '__hash__',\n",
       " '__iadd__',\n",
       " '__iand__',\n",
       " '__init__',\n",
       " '__init_subclass__',\n",
       " '__ior__',\n",
       " '__isub__',\n",
       " '__iter__',\n",
       " '__le__',\n",
       " '__len__',\n",
       " '__lt__',\n",
       " '__missing__',\n",
       " '__module__',\n",
       " '__ne__',\n",
       " '__neg__',\n",
       " '__new__',\n",
       " '__or__',\n",
       " '__pos__',\n",
       " '__reduce__',\n",
       " '__reduce_ex__',\n",
       " '__repr__',\n",
       " '__reversed__',\n",
       " '__ror__',\n",
       " '__setattr__',\n",
       " '__setitem__',\n",
       " '__sizeof__',\n",
       " '__str__',\n",
       " '__sub__',\n",
       " '__subclasshook__',\n",
       " '__weakref__',\n",
       " '_keep_positive',\n",
       " 'clear',\n",
       " 'copy',\n",
       " 'elements',\n",
       " 'fromkeys',\n",
       " 'get',\n",
       " 'items',\n",
       " 'keys',\n",
       " 'most_common',\n",
       " 'pop',\n",
       " 'popitem',\n",
       " 'setdefault',\n",
       " 'subtract',\n",
       " 'update',\n",
       " 'values']"
      ]
     },
     "execution_count": 27,
     "metadata": {},
     "output_type": "execute_result"
    }
   ],
   "source": [
    "dir(c)"
   ]
  },
  {
   "cell_type": "code",
   "execution_count": 28,
   "metadata": {},
   "outputs": [
    {
     "data": {
      "text/plain": [
       "[('teksts', 2), ('kaut', 1)]"
      ]
     },
     "execution_count": 28,
     "metadata": {},
     "output_type": "execute_result"
    }
   ],
   "source": [
    "c.most_common(2)"
   ]
  },
  {
   "cell_type": "markdown",
   "metadata": {},
   "source": [
    "### 1.3 Class and static methods\n",
    "\n",
    "- Class methods are methods that are not bound to an object, but to a class. They are defined using the @classmethod decorator.\n",
    "\n",
    "- Static methods are similar to class methods, except they don't receive any additional arguments; they are identical to normal functions that belong to a class. They are defined using the @staticmethod decorator.\n",
    "\n",
    "Use of class and static methods is not very common, but they can be useful in some cases. In all other cases you can use regular instance methods."
   ]
  },
  {
   "cell_type": "code",
   "execution_count": 29,
   "metadata": {},
   "outputs": [],
   "source": [
    "# lets create a class called Calculator that will utilize class and static methods\n",
    "\n",
    "# we will store value of PI in a class variable\n",
    "# we will have a class method that will return area of a circle\n",
    "# we will have a static method that will return power of a number\n",
    "\n",
    "class Calculator:\n",
    "    PI = 3.1415926\n",
    "    \n",
    "    @classmethod # this is so called decorator, we will talk about it advanced topics\n",
    "    def area_of_circle(cls, radius): # note cls is used instead of self, \n",
    "        # technically we can use self as well or any other name but convention is to use cls\n",
    "        return cls.PI * radius * radius\n",
    "    \n",
    "    @staticmethod\n",
    "    def power_of_number(number, power): # note we dont have self or cls here at all\n",
    "        return number ** power\n",
    "  "
   ]
  },
  {
   "cell_type": "code",
   "execution_count": 30,
   "metadata": {},
   "outputs": [
    {
     "name": "stdout",
     "output_type": "stream",
     "text": [
      "Help on class Calculator in module __main__:\n",
      "\n",
      "class Calculator(builtins.object)\n",
      " |  Class methods defined here:\n",
      " |  \n",
      " |  area_of_circle(radius) from builtins.type\n",
      " |  \n",
      " |  ----------------------------------------------------------------------\n",
      " |  Static methods defined here:\n",
      " |  \n",
      " |  power_of_number(number, power)\n",
      " |  \n",
      " |  ----------------------------------------------------------------------\n",
      " |  Data descriptors defined here:\n",
      " |  \n",
      " |  __dict__\n",
      " |      dictionary for instance variables (if defined)\n",
      " |  \n",
      " |  __weakref__\n",
      " |      list of weak references to the object (if defined)\n",
      " |  \n",
      " |  ----------------------------------------------------------------------\n",
      " |  Data and other attributes defined here:\n",
      " |  \n",
      " |  PI = 3.1415926\n",
      "\n"
     ]
    }
   ],
   "source": [
    "help(Calculator)"
   ]
  },
  {
   "cell_type": "code",
   "execution_count": 32,
   "metadata": {},
   "outputs": [
    {
     "name": "stdout",
     "output_type": "stream",
     "text": [
      "78.539815\n",
      "8\n",
      "\n",
      "78.539815\n"
     ]
    }
   ],
   "source": [
    "# the key point of class and static methods is that they can be called without creating an object\n",
    "\n",
    "print(Calculator.area_of_circle(5))\n",
    "print(Calculator.power_of_number(2, 3))\n",
    "print()\n",
    "\n",
    "# you could still create an object and call the methods\n",
    "calc = Calculator()\n",
    "print(calc.area_of_circle(5)) # kind of pointless in this case since we did not define any instance variables nor methods\n",
    "\n",
    "# thus you could use class and static methods to create utility libraries that can be used without creating an object"
   ]
  },
  {
   "cell_type": "markdown",
   "metadata": {},
   "source": [
    "#### Topic 1 - mini exercise\n",
    "\n",
    "Create a class called `Person` with the following attributes:\n",
    "- `name`\n",
    "- `age`\n",
    "- `hobbies` (could be a list)\n",
    "\n",
    "You should be using `__init__` to initialize the attributes and `__str__` to print human-readable information about a class instance.\n"
   ]
  },
  {
   "cell_type": "code",
   "execution_count": 33,
   "metadata": {},
   "outputs": [],
   "source": [
    "class Person:\n",
    "\n",
    "    def __init__(self, name, age, hobbies):\n",
    "        self.name = name\n",
    "        self.age = age\n",
    "        self.hobbies = hobbies\n",
    "\n",
    "    def __str__(self):\n",
    "        return f\"Person: {self.name}, {self.age} has hobbies {self.hobbies}\"\n",
    "\n",
    "peter = Person(\"Pēteris\", 40, [\"photography\"])\n"
   ]
  },
  {
   "cell_type": "code",
   "execution_count": 34,
   "metadata": {},
   "outputs": [
    {
     "name": "stdout",
     "output_type": "stream",
     "text": [
      "Person: Pēteris, 40 has hobbies ['photography']\n"
     ]
    }
   ],
   "source": [
    "print(peter)"
   ]
  },
  {
   "cell_type": "code",
   "execution_count": 35,
   "metadata": {},
   "outputs": [
    {
     "data": {
      "text/plain": [
       "{'name': 'Pēteris', 'age': 40, 'hobbies': ['photography']}"
      ]
     },
     "execution_count": 35,
     "metadata": {},
     "output_type": "execute_result"
    }
   ],
   "source": [
    "peter.__dict__"
   ]
  },
  {
   "cell_type": "markdown",
   "metadata": {},
   "source": [
    "### Topic 2: - encapsulation, inheritance"
   ]
  },
  {
   "cell_type": "markdown",
   "metadata": {},
   "source": [
    "### Encapsulation\n",
    "\n",
    "What is encapsulation in OOP (object-oriented programming)?\n",
    "\n",
    "Encapsulation means bundling together data and the methods for working with this data. \n",
    "\n",
    "It may also refer to the process of restricting access to methods and variables in a class in order to prevent direct data modification so it prevents accidental data modification.\n",
    "\n",
    "#### Benefits:\n",
    "\n",
    "* Control: Encapsulation provides control over the data by allowing you to restrict or permit data modification only through methods.\n",
    "* Flexibility & Maintenance: Since the internal representation of an object is hidden, it can be changed without affecting the external interface of the object. This is useful in maintaining and updating software.\n",
    "* Increased Security: Protects the integrity of the data by only allowing it to be changed in well-defined ways.\n",
    "\n",
    "---\n",
    "\n",
    "In most programming languages, encapsulation is achieved by declaring class variables/attributes as private and providing public get and set methods to modify them.\n",
    "\n",
    "In Python, we do not really have private attributes and methods but there is a naming convention that attributes and methods denoted using underscore prefix, for example `_name`, are considered \"private\" and should not be used directly.\n",
    "\n",
    "We can also use double underscore as the prefix, for example `__name`. This is called name mangling and it is used to prevent accidental access of private variables. Python interpreter changes the name of the variable from `__name` to `_classname__name` thus making it more difficult to access.\n"
   ]
  },
  {
   "cell_type": "code",
   "execution_count": 36,
   "metadata": {},
   "outputs": [],
   "source": [
    "class Customer:\n",
    "    \"\"\"A customer of ABC Bank with a checking account. Customers have the\n",
    "    following properties:\n",
    "\n",
    "    Attributes:\n",
    "        name: A string representing the customer's name.\n",
    "        _balance: A float tracking the current balance of the customer's account.\n",
    "    \"\"\"\n",
    "\n",
    "    def __init__(self, name, balance=0.0):\n",
    "        \"\"\"Return a Customer object whose name is *name* and starting\n",
    "        balance is *balance*.\"\"\"\n",
    "        self.name = name\n",
    "        self._balance = balance\n",
    "\n",
    "    def get_balance(self):\n",
    "        return self._balance\n",
    "        \n",
    "    def withdraw(self, amount):\n",
    "        \"\"\"Return the balance remaining after withdrawing *amount*\n",
    "        dollars.\"\"\"\n",
    "        if amount > self._balance:\n",
    "            raise RuntimeError('Amount greater than the available balance.')\n",
    "        self._balance -= amount\n",
    "        return self._balance\n",
    "\n",
    "    def deposit(self, amount):\n",
    "        \"\"\"Return the balance remaining after depositing *amount*\n",
    "        dollars.\"\"\"\n",
    "        self._balance += amount\n",
    "        return self._balance"
   ]
  },
  {
   "cell_type": "code",
   "execution_count": 37,
   "metadata": {},
   "outputs": [
    {
     "name": "stdout",
     "output_type": "stream",
     "text": [
      "Help on class Customer in module __main__:\n",
      "\n",
      "class Customer(builtins.object)\n",
      " |  Customer(name, balance=0.0)\n",
      " |  \n",
      " |  A customer of ABC Bank with a checking account. Customers have the\n",
      " |  following properties:\n",
      " |  \n",
      " |  Attributes:\n",
      " |      name: A string representing the customer's name.\n",
      " |      _balance: A float tracking the current balance of the customer's account.\n",
      " |  \n",
      " |  Methods defined here:\n",
      " |  \n",
      " |  __init__(self, name, balance=0.0)\n",
      " |      Return a Customer object whose name is *name* and starting\n",
      " |      balance is *balance*.\n",
      " |  \n",
      " |  deposit(self, amount)\n",
      " |      Return the balance remaining after depositing *amount*\n",
      " |      dollars.\n",
      " |  \n",
      " |  get_balance(self)\n",
      " |  \n",
      " |  withdraw(self, amount)\n",
      " |      Return the balance remaining after withdrawing *amount*\n",
      " |      dollars.\n",
      " |  \n",
      " |  ----------------------------------------------------------------------\n",
      " |  Data descriptors defined here:\n",
      " |  \n",
      " |  __dict__\n",
      " |      dictionary for instance variables (if defined)\n",
      " |  \n",
      " |  __weakref__\n",
      " |      list of weak references to the object (if defined)\n",
      "\n"
     ]
    }
   ],
   "source": [
    "help(Customer)"
   ]
  },
  {
   "cell_type": "code",
   "execution_count": 38,
   "metadata": {},
   "outputs": [
    {
     "name": "stdout",
     "output_type": "stream",
     "text": [
      "Current balance is 333\n",
      "Current balance is 33\n"
     ]
    }
   ],
   "source": [
    "vs = Customer(\"Pēteris\", balance=333)\n",
    "\n",
    "print(f\"Current balance is {vs.get_balance()}\")\n",
    "\n",
    "vs.withdraw(300)\n",
    "print(f\"Current balance is {vs.get_balance()}\")"
   ]
  },
  {
   "cell_type": "code",
   "execution_count": 39,
   "metadata": {},
   "outputs": [
    {
     "ename": "RuntimeError",
     "evalue": "Amount greater than the available balance.",
     "output_type": "error",
     "traceback": [
      "\u001b[0;31m---------------------------------------------------------------------------\u001b[0m",
      "\u001b[0;31mRuntimeError\u001b[0m                              Traceback (most recent call last)",
      "Cell \u001b[0;32mIn[39], line 1\u001b[0m\n\u001b[0;32m----> 1\u001b[0m \u001b[43mvs\u001b[49m\u001b[38;5;241;43m.\u001b[39;49m\u001b[43mwithdraw\u001b[49m\u001b[43m(\u001b[49m\u001b[38;5;241;43m40\u001b[39;49m\u001b[43m)\u001b[49m\n\u001b[1;32m      2\u001b[0m \u001b[38;5;28mprint\u001b[39m(\u001b[38;5;124mf\u001b[39m\u001b[38;5;124m\"\u001b[39m\u001b[38;5;124mCurrent balance is \u001b[39m\u001b[38;5;132;01m{\u001b[39;00mvs\u001b[38;5;241m.\u001b[39mget_balance()\u001b[38;5;132;01m}\u001b[39;00m\u001b[38;5;124m\"\u001b[39m)\n",
      "Cell \u001b[0;32mIn[36], line 23\u001b[0m, in \u001b[0;36mCustomer.withdraw\u001b[0;34m(self, amount)\u001b[0m\n\u001b[1;32m     20\u001b[0m \u001b[38;5;250m\u001b[39m\u001b[38;5;124;03m\"\"\"Return the balance remaining after withdrawing *amount*\u001b[39;00m\n\u001b[1;32m     21\u001b[0m \u001b[38;5;124;03mdollars.\"\"\"\u001b[39;00m\n\u001b[1;32m     22\u001b[0m \u001b[38;5;28;01mif\u001b[39;00m amount \u001b[38;5;241m>\u001b[39m \u001b[38;5;28mself\u001b[39m\u001b[38;5;241m.\u001b[39m_balance:\n\u001b[0;32m---> 23\u001b[0m     \u001b[38;5;28;01mraise\u001b[39;00m \u001b[38;5;167;01mRuntimeError\u001b[39;00m(\u001b[38;5;124m'\u001b[39m\u001b[38;5;124mAmount greater than the available balance.\u001b[39m\u001b[38;5;124m'\u001b[39m)\n\u001b[1;32m     24\u001b[0m \u001b[38;5;28mself\u001b[39m\u001b[38;5;241m.\u001b[39m_balance \u001b[38;5;241m-\u001b[39m\u001b[38;5;241m=\u001b[39m amount\n\u001b[1;32m     25\u001b[0m \u001b[38;5;28;01mreturn\u001b[39;00m \u001b[38;5;28mself\u001b[39m\u001b[38;5;241m.\u001b[39m_balance\n",
      "\u001b[0;31mRuntimeError\u001b[0m: Amount greater than the available balance."
     ]
    }
   ],
   "source": [
    "vs.withdraw(40)\n",
    "print(f\"Current balance is {vs.get_balance()}\")"
   ]
  },
  {
   "cell_type": "markdown",
   "metadata": {},
   "source": [
    "#### Attribute and method hiding"
   ]
  },
  {
   "cell_type": "code",
   "execution_count": 40,
   "metadata": {},
   "outputs": [
    {
     "name": "stdout",
     "output_type": "stream",
     "text": [
      "Creating a new robot spy named Austin Powers\n",
      "Creating a new robot spy named James Bond\n"
     ]
    }
   ],
   "source": [
    "# let's create a private Robot class with a private attribute called __secret_password\n",
    "\n",
    "class RobotSpy:\n",
    "    \n",
    "    def __init__(self, name, internal_name, password):\n",
    "        print(f\"Creating a new robot spy named {name}\")\n",
    "        self.name = name\n",
    "        self._internal_name = internal_name # this is  purely a convention and does not prevent external code from accessing it\n",
    "        self.__secret_password = password # this does prevent external code from accessing it directly\n",
    "    \n",
    "    def get_secret_password(self):\n",
    "        # you could add extra logic here to check if the user is authorized to get the password\n",
    "        return self.__secret_password\n",
    "    \n",
    "    def set_secret_password(self, new_password):\n",
    "        # you could add extra logic here to check if the new password is valid\n",
    "        if self.__is_password_valid(new_password):\n",
    "        # you could check if the new password is at least 8 characters long etc\n",
    "        # also you could check if the user is authorized to change the password\n",
    "            self.__secret_password = new_password\n",
    "        # else you could raise an exception or do nothing or log the error etc\n",
    "\n",
    "    # we can have private methods as well\n",
    "    # let's create a private method that checks if the password is valid\n",
    "    def __is_password_valid(self, password):\n",
    "        return len(password) >= 8 # this could be as complex as you want\n",
    "\n",
    "\n",
    "# let's create some robot spies\n",
    "austin = RobotSpy('Austin Powers', '068', 'shagadelic')\n",
    "bond = RobotSpy('James Bond', '007', 'password123')\n"
   ]
  },
  {
   "cell_type": "code",
   "execution_count": 41,
   "metadata": {},
   "outputs": [
    {
     "name": "stdout",
     "output_type": "stream",
     "text": [
      "The name of the austin Robot is:  Austin Powers\n",
      "The code name of the bond Robot is:  007\n",
      "Error:  'RobotSpy' object has no attribute '__secret_password'\n"
     ]
    }
   ],
   "source": [
    "# now we can access public variables with ease\n",
    "print(\"The name of the austin Robot is: \", austin.name)\n",
    "\n",
    "# we can get code name for bond robot\n",
    "print(\"The code name of the bond Robot is: \", bond._internal_name)\n",
    "\n",
    "# we can not get the secret name of the bond robot directly\n",
    "try:\n",
    "    print(\"The secret name of the bond Robot is: \", bond.__secret_password)\n",
    "except AttributeError as e:\n",
    "    print(\"Error: \", e)\n"
   ]
  },
  {
   "cell_type": "code",
   "execution_count": 42,
   "metadata": {},
   "outputs": [
    {
     "name": "stdout",
     "output_type": "stream",
     "text": [
      "Mr. Bond your secret is password123\n",
      "Mr. Bond your secret is 12345678\n",
      "I can get your password without using the get method 12345678\n",
      "False\n"
     ]
    }
   ],
   "source": [
    "# thus to access the secret password we need to use the get method\n",
    "print(\"Mr. Bond your secret is\", bond.get_secret_password())\n",
    "\n",
    "# we can also use the set method to change the secret password\n",
    "bond.set_secret_password(\"12345678\")\n",
    "print(\"Mr. Bond your secret is\", bond.get_secret_password())\n",
    "\n",
    "# we mentioned that the password is name mangling protected\n",
    "# if we really want to access it we can still do it like this\n",
    "print(\"I can get your password without using the get method\", bond._RobotSpy__secret_password)\n",
    "\n",
    "# this is not recommended but possible\n",
    "# similarly we could access the private method if we knew the name\n",
    "# but this is not recommended\n",
    "print(bond._RobotSpy__is_password_valid(\"123456\"))\n",
    "\n",
    "# overall encapsulation in Python is not enforced too strictly\n",
    "# but it is still a good practice to use it on larger projects"
   ]
  },
  {
   "cell_type": "markdown",
   "metadata": {},
   "source": [
    "#### Topic 2.2: - inheritance\n",
    "\n",
    "Inheritance is one of the fundamental pillars of object-oriented programming (OOP).\n",
    "\n",
    "It allows a class (called the subclass or derived class) to inherit attributes and methods from another class (called the superclass or base class). Inheritance models the \"is-a\" relationship between objects and promotes code reuse and the creation of hierarchies.\n",
    "\n",
    "*Note: technically it is possible to inherit from multiple classes but generally it is not recommended because it can lead to confusion and extra complexity.*"
   ]
  },
  {
   "cell_type": "code",
   "execution_count": 43,
   "metadata": {},
   "outputs": [],
   "source": [
    "# general syntax for class based inheritance\n",
    "class BaseClass:\n",
    "    pass\n",
    "\n",
    "class DerivedClass(BaseClass):\n",
    "    pass\n",
    "\n",
    "# this example is pretty useless, but it shows the syntax"
   ]
  },
  {
   "cell_type": "code",
   "execution_count": 44,
   "metadata": {},
   "outputs": [
    {
     "name": "stdout",
     "output_type": "stream",
     "text": [
      "<__main__.DerivedClass object at 0x10deea730>\n"
     ]
    }
   ],
   "source": [
    "my_object = DerivedClass()\n",
    "print(my_object)"
   ]
  },
  {
   "cell_type": "code",
   "execution_count": 48,
   "metadata": {},
   "outputs": [],
   "source": [
    "# defining and using inheritance\n",
    "\n",
    "class FlyingVehicle:\n",
    "    def __init__(self, name, speed):\n",
    "        self.name = name\n",
    "        self.speed = speed\n",
    "\n",
    "    def __str__(self): # we are overriding the __str__ method from the object class\n",
    "        return f\"{self.name} flies at {self.speed} mph\"\n",
    "\n",
    "#    def __repr__(self): # we are overriding the __repr__ method from the object class\n",
    "#        return f\"FlyingVehicle({self.__dict__})\"\n",
    "\n",
    "    def __repr__(self): # we are overriding the __repr__ method from the object class\n",
    "        return f\"{self.__class__.__name__}({self.__dict__})\"\n",
    "    \n",
    "    def fly(self): # this is a method specific to the FlyingVehicle class and all its subclasses\n",
    "        return f\"{self.name} is flying\"\n",
    "\n",
    "    \n",
    "class Airplane(FlyingVehicle):\n",
    "    def __init__(self, name, speed, capacity):\n",
    "        super().__init__(name, speed) # note the call to super() - this calls __init__ from the parent class (FlyingVehicle here)\n",
    "        self.capacity = capacity\n",
    "\n",
    "    def __str__(self): # we are overriding the __str__ method from parent class FlyingVehicle\n",
    "        return f\"{self.name} flies at {self.speed} mph and has a capacity of {self.capacity}\"\n",
    "\n",
    "    def fly(self): # we are overriding the fly method from parent class FlyingVehicle\n",
    "        return f\"{self.name} is flying with {self.capacity} passengers\"\n",
    "    \n",
    "    def take_off(self): # this is a method specific to the Airplane class and not present in the parent class\n",
    "        return f\"{self.name} is taking off\""
   ]
  },
  {
   "cell_type": "code",
   "execution_count": 50,
   "metadata": {},
   "outputs": [
    {
     "name": "stdout",
     "output_type": "stream",
     "text": [
      "Hot air balloon flies at 30 mph\n"
     ]
    },
    {
     "data": {
      "text/plain": [
       "FlyingVehicle({'name': 'Hot air balloon', 'speed': 30})"
      ]
     },
     "execution_count": 50,
     "metadata": {},
     "output_type": "execute_result"
    }
   ],
   "source": [
    "something = FlyingVehicle(\"Hot air balloon\", 30)\n",
    "\n",
    "print(something)\n",
    "\n",
    "something"
   ]
  },
  {
   "cell_type": "code",
   "execution_count": 51,
   "metadata": {},
   "outputs": [
    {
     "name": "stdout",
     "output_type": "stream",
     "text": [
      "Airbus flies at 500 mph and has a capacity of 200\n",
      "\n",
      "Airbus is taking off\n",
      "Airbus is flying with 200 passengers\n",
      "\n",
      "Airplane({'name': 'Airbus', 'speed': 500, 'capacity': 200})\n"
     ]
    }
   ],
   "source": [
    "plane = Airplane(\"Airbus\", 500, 200)\n",
    "print(plane)\n",
    "print()\n",
    "\n",
    "print(plane.take_off())\n",
    "print(plane.fly())\n",
    "print()\n",
    "\n",
    "print(repr(plane))"
   ]
  },
  {
   "cell_type": "markdown",
   "metadata": {},
   "source": [
    "#### Topic 2 - mini exercise\n",
    "\n",
    "Create a class TalkativePerson that inherits from Person class that you created in first exercise. TalkativePerson should have an additional method called talk() that prints \"Hello, my name is \" followed by their name.\n",
    "\n",
    "Also it should have a method that adds a hobby to the list of hobbies.\n",
    "Add a method that prints all hobbies of the person."
   ]
  },
  {
   "cell_type": "code",
   "execution_count": 55,
   "metadata": {},
   "outputs": [],
   "source": [
    "class TalkativePerson(Person):\n",
    "\n",
    "    def talk(self):\n",
    "        print(f\"Hello, my name is {self.name}\")\n",
    "\n",
    "    def add_hobby(self, hobby):\n",
    "        self.hobbies.append(hobby)\n"
   ]
  },
  {
   "cell_type": "code",
   "execution_count": 56,
   "metadata": {},
   "outputs": [
    {
     "name": "stdout",
     "output_type": "stream",
     "text": [
      "Hello, my name is John\n"
     ]
    }
   ],
   "source": [
    "talkative = TalkativePerson(\"John\", \"123\" , [])\n",
    "\n",
    "talkative.talk()"
   ]
  },
  {
   "cell_type": "code",
   "execution_count": 58,
   "metadata": {},
   "outputs": [
    {
     "name": "stdout",
     "output_type": "stream",
     "text": [
      "[]\n",
      "\n",
      "['hiking']\n"
     ]
    }
   ],
   "source": [
    "print(talkative.hobbies)\n",
    "print()\n",
    "\n",
    "talkative.add_hobby(\"hiking\")\n",
    "print(talkative.hobbies)"
   ]
  },
  {
   "cell_type": "markdown",
   "metadata": {},
   "source": [
    "### Topic 3.1 Polymorphism\n",
    "\n",
    "Polymorphism is another core concept in object-oriented programming (OOP). Derived from the Greek words \"poly\" (many) and \"morph\" (forms), polymorphism allows objects of different classes to be treated as if they are objects of the same class.\n",
    "\n",
    "The essence of polymorphism is providing a single interface for working with entities of different types.\n",
    "\n",
    "##### Benefits of Polymorphism:\n",
    "\n",
    "* Flexibility: Polymorphism provides flexibility in using pre-defined methods across different types or classes.\n",
    "* Reusability: Common interfaces can be reused for objects of different types.\n",
    "* Extensibility: New classes can be added with little or no modification to existing code, promoting the Open/Closed Principle.\n",
    "\n",
    "##### Polymorphism in Python\n",
    "\n",
    "Since Python is a dynamic language we use runtime polymorphism in Python. This will generally mean overwriting methods(we can not overload methods in Python).\n",
    "We can use the same function or operator on different types of objects. \n",
    "\n",
    "For example, we can use the + operator to add two integers or two strings. The same operator is also used to concatenate two lists.\n",
    "\n",
    "Definition: **Runtime (Dynamic) Polymorphism**: This occurs when the implementation of a particular interface or method is decided at runtime rather than at compile time. Inheritance and method overriding are its main tools."
   ]
  },
  {
   "cell_type": "code",
   "execution_count": 59,
   "metadata": {},
   "outputs": [
    {
     "name": "stdout",
     "output_type": "stream",
     "text": [
      "None\n",
      "Woof!\n",
      "Meow!\n"
     ]
    }
   ],
   "source": [
    "# Runtime Polymorphism\n",
    "class AnimalRobot:\n",
    "    def speak(self):\n",
    "        pass\n",
    "\n",
    "class Dog(AnimalRobot):\n",
    "    def speak(self):\n",
    "        return \"Woof!\"\n",
    "\n",
    "class Cat(AnimalRobot):\n",
    "    def speak(self):\n",
    "        return \"Meow!\"\n",
    "    \n",
    "# Here, both Dog and Cat are subclasses of AnimalRobot and \n",
    "# they both provide their own implementation of the speak() method.\n",
    "\n",
    "# At runtime, the speak method of the object's actual type (either Dog or Cat)\n",
    "# will be called, demonstrating polymorphism.\n",
    "\n",
    "pet = AnimalRobot()\n",
    "print(pet.speak())  # Output: None\n",
    "# In a way we are simulating the behavior of an abstract class in Python.\n",
    "\n",
    "pet = Dog()\n",
    "print(pet.speak())  # Output: Woof!\n",
    "\n",
    "pet = Cat()\n",
    "print(pet.speak())  # Output: Meow!"
   ]
  },
  {
   "cell_type": "markdown",
   "metadata": {},
   "source": [
    "### Topic 3.2 : - composibility\n",
    "\n",
    "Composability in object-oriented programming (OOP) refers to the design principle where simple objects are combined to create more complex ones. Rather than defining a monolithic structure that tries to capture every aspect of a problem domain, composability focuses on building smaller, simpler objects that can be combined in flexible ways.\n",
    "\n",
    "In OOP, this often means favoring composition over inheritance. While inheritance allows a new class to be derived from an existing one, sometimes it can lead to complex class hierarchies that are hard to understand, maintain, or modify. On the other hand, composition involves building classes by combining simpler, already-existing objects. This approach is more flexible and easier to understand.\n",
    "\n",
    "#### Implementing composition in Python\n",
    "\n",
    "* With composition, one class contains a reference to another class and delegates certain responsibilities, allowing you to mix and match features from different classes.\n",
    "* This way, instead of inheriting all properties and behaviors of a parent class, a class only references the properties and behaviors it needs."
   ]
  },
  {
   "cell_type": "code",
   "execution_count": 60,
   "metadata": {},
   "outputs": [
    {
     "name": "stdout",
     "output_type": "stream",
     "text": [
      "Engine starting...\n",
      "['Wheel 0 rotating...', 'Wheel 1 rotating...', 'Wheel 2 rotating...', 'Wheel 3 rotating...']\n",
      "Engine stopping...\n"
     ]
    }
   ],
   "source": [
    "## Composibility example\n",
    "\n",
    "class Engine:\n",
    "    def start(self):\n",
    "        return \"Engine starting...\"\n",
    "\n",
    "    def stop(self):\n",
    "        return \"Engine stopping...\"\n",
    "    \n",
    "class Wheel:\n",
    "    def __init__(self, number) -> None:\n",
    "        self.number = number\n",
    "    def rotate(self):\n",
    "        return f\"Wheel {self.number} rotating...\"\n",
    "\n",
    "class Car:\n",
    "    def __init__(self, num_wheels=4):\n",
    "        self.engine = Engine()\n",
    "        self.num_wheels = num_wheels\n",
    "        # we can use list comprehension to create a list of wheels\n",
    "        self.wheels = [Wheel(i) for i in range(num_wheels)] # note we pass in the wheel number to the Wheel constructor\n",
    "        \n",
    "    def start(self):\n",
    "        return self.engine.start()\n",
    "\n",
    "    def stop(self):\n",
    "        return self.engine.stop()\n",
    "    \n",
    "    def rotate_wheels(self):\n",
    "        return [wheel.rotate() for wheel in self.wheels]\n",
    "\n",
    "my_car = Car()\n",
    "print(my_car.start())  # Engine starting...\n",
    "print(my_car.rotate_wheels())  # ['Wheel rotating...', 'Wheel rotating...', 'Wheel rotating...', 'Wheel rotating...']\n",
    "print(my_car.stop())   # Engine stopping..\n"
   ]
  },
  {
   "cell_type": "markdown",
   "metadata": {},
   "source": [
    "In the above code, the Car class has an Engine object rather than inheriting from it. This allows Car to delegate the start and stop behaviors to the Engine, demonstrating composition.\n",
    "\n",
    "The Car class also has a list of Wheel objects. This allows Car to delegate the rotate behavior to each Wheel, demonstrating composition.\n",
    "\n",
    "- The ongoing challenge is how to design classes that are loosely coupled and highly cohesive.\n",
    "- There is also a question on how best communicate attributes between classes and methods of different classes.\n",
    "\n",
    "At some point you will need to decide whether to use inheritance or composition or both."
   ]
  },
  {
   "cell_type": "markdown",
   "metadata": {},
   "source": [
    "### Bonus: Simple \"data\" classes\n",
    "\n",
    "Sometimes it is useful to have a data type similar to the Pascal “record” or C “struct”, bundling together a few named data items. You could do this using an empty class definition:"
   ]
  },
  {
   "cell_type": "code",
   "execution_count": 61,
   "metadata": {},
   "outputs": [
    {
     "name": "stdout",
     "output_type": "stream",
     "text": [
      "{}\n",
      "{'name': 'Jānis Bērziņš', 'dept': 'IT nodaļa', 'salary': 2000}\n"
     ]
    }
   ],
   "source": [
    "class Employee:\n",
    "    \n",
    "    def __str__(self):\n",
    "        return f'{self.__dict__}'\n",
    "\n",
    "john = Employee()\n",
    "print(john)\n",
    "\n",
    "# Fill the fields of the record\n",
    "john.name = 'Jānis Bērziņš'\n",
    "john.dept = 'IT nodaļa'\n",
    "john.salary = 2000\n",
    "print(john)"
   ]
  },
  {
   "cell_type": "markdown",
   "metadata": {},
   "source": [
    "---\n",
    "\n",
    "... or you can define an Employee class with a proper `__init__` method and other related attributes and methods:\n"
   ]
  },
  {
   "cell_type": "code",
   "execution_count": 62,
   "metadata": {},
   "outputs": [],
   "source": [
    "class Employee:\n",
    "    \n",
    "    def __init__(self, name, dept, salary):\n",
    "        self.name = name\n",
    "        self.dept = dept\n",
    "        self.salary = salary\n",
    "        \n",
    "    def __str__(self):\n",
    "        return f'{self.__dict__}'"
   ]
  },
  {
   "cell_type": "code",
   "execution_count": 63,
   "metadata": {},
   "outputs": [
    {
     "name": "stdout",
     "output_type": "stream",
     "text": [
      "{'name': 'Jānis Bērziņš', 'dept': 'IT nodaļa', 'salary': 2000}\n"
     ]
    }
   ],
   "source": [
    "john2 = Employee('Jānis Bērziņš', 'IT nodaļa', 2000)\n",
    "print(john2)"
   ]
  },
  {
   "cell_type": "markdown",
   "metadata": {},
   "source": [
    "---\n",
    "\n",
    "... or you can use a **dataclass**.\n",
    "\n",
    "**Dataclasses** let you define objects that typically contain only data:\n",
    "- https://docs.python.org/3/library/dataclasses.html\n",
    "- https://realpython.com/python-data-classes/"
   ]
  },
  {
   "cell_type": "code",
   "execution_count": 64,
   "metadata": {},
   "outputs": [
    {
     "name": "stdout",
     "output_type": "stream",
     "text": [
      "Employee2(name='Jānis Bērziņš', dept='IT nodaļa', salary=2000)\n",
      "Jānis Bērziņš\n",
      "\n"
     ]
    }
   ],
   "source": [
    "from dataclasses import dataclass\n",
    "\n",
    "@dataclass   # this is a dataclass \"decorator\"\n",
    "class Employee2:\n",
    "    \"\"\"Class for information about company employees.\"\"\"\n",
    "    name: str\n",
    "    dept: str\n",
    "    salary: int\n",
    "\n",
    "john2 = Employee2('Jānis Bērziņš', 'IT nodaļa', 2000)\n",
    "print(john2)\n",
    "print(john2.name)\n",
    "\n",
    "print()"
   ]
  },
  {
   "cell_type": "markdown",
   "metadata": {},
   "source": [
    "## Lesson Summary\n",
    "\n",
    "In this lesson we learned about the following concepts:\n",
    "\n",
    "* Classes - a blueprint for creating objects\n",
    "* Objects - an instance of a class\n",
    "* Attributes - data stored inside a class or instance and represent the state or quality of the class or instance\n",
    "* Methods - functions that are associated with a class\n",
    "\n",
    "---\n",
    "\n",
    "* Static Methods and Class Methods - methods that are associated with a class rather than an instance of a class\n",
    "* Dunder Methods - methods with double underscores before and after the method name, used to create functionality that can't be represented as a normal method\n",
    "* Initializers - special methods used to initialize new objects\n",
    "\n",
    "---\n",
    "\n",
    "* Encapsulation - the grouping of public and private attributes and methods into a programmatic class, making abstraction possible\n",
    "* Inheritance - when a class inherits the attributes and methods of another class\n",
    "* Polymorphism - overriding the functionality of a parent class in a child class\n",
    "* Composition - when a class is made up of other classes as attributes\n",
    "\n",
    "---\n",
    "\n",
    "* Dataclasses - simple classes that typically contain only data"
   ]
  },
  {
   "cell_type": "markdown",
   "metadata": {},
   "source": [
    "## Additional Resources\n",
    "\n",
    "### Topic 1 - classes and objects\n",
    "\n",
    "- [Classes official doc](https://docs.python.org/3/tutorial/classes.html)\n",
    "- [Objects official doc](https://docs.python.org/3/tutorial/classes.html#class-objects)\n",
    "- [`__dunder__` methods official doc](https://docs.python.org/3/reference/datamodel.html?highlight=__add__#special-method-names)\n",
    "- [statics and class methods Real Python](https://realpython.com/instance-class-and-static-methods-demystified/)\n",
    "\n",
    "### Topic 2 - resources\n",
    "\n",
    "- [Encapsulation G4G](https://www.geeksforgeeks.org/encapsulation-in-python/)\n",
    "- [Inheritance G4G](https://www.geeksforgeeks.org/inheritance-in-python/)\n",
    "\n",
    "### Topic 3 - resources\n",
    "\n",
    "- [Polymorphism G4G](https://www.geeksforgeeks.org/polymorphism-in-python/)\n",
    "- [Composition Real Python](https://realpython.com/inheritance-composition-python/)\n"
   ]
  },
  {
   "cell_type": "code",
   "execution_count": null,
   "metadata": {},
   "outputs": [],
   "source": []
  }
 ],
 "metadata": {
  "kernelspec": {
   "display_name": "Python 3 (ipykernel)",
   "language": "python",
   "name": "python3"
  },
  "language_info": {
   "codemirror_mode": {
    "name": "ipython",
    "version": 3
   },
   "file_extension": ".py",
   "mimetype": "text/x-python",
   "name": "python",
   "nbconvert_exporter": "python",
   "pygments_lexer": "ipython3",
   "version": "3.9.18"
  }
 },
 "nbformat": 4,
 "nbformat_minor": 4
}
