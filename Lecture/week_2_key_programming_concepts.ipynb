{
 "cells": [
  {
   "cell_type": "markdown",
   "metadata": {},
   "source": [
    "![LU Logo](https://www.df.lu.lv/fileadmin/user_upload/LU.LV/Apaksvietnes/Fakultates/www.df.lu.lv/Par_mums/Logo/DF_logo/01_DF_logo_LV.png)"
   ]
  },
  {
   "cell_type": "markdown",
   "metadata": {},
   "source": [
    "# Week 2: Key Programming Concepts\n",
    "\n",
    "\n",
    "\n",
    "\n"
   ]
  },
  {
   "cell_type": "markdown",
   "metadata": {},
   "source": [
    "## Lesson Overview\n",
    "\n",
    "We will cover the following topics:\n",
    "\n",
    "* conditional statements: if, elif, else.\n",
    "* looping: for loops, while loops, loop control statements (break, continue)\n",
    "* exception handling: try, except, finally.\n",
    "* strings: indexing, slicing, methods.\n",
    "* concept of a list: compare to arrays in other languages.\n",
    "* indexing and slicing.\n",
    "* list methods: append, extend, insert, remove, pop, clear, index, count, sort, reverse, copy.\n",
    "\n",
    "## Prerequisites\n",
    "\n",
    "* knowledge of basic Python syntax\n",
    "* knowledge of basic Python data types - strings, integers, floats, booleans\n",
    "\n",
    "## Lesson Objectives\n",
    "\n",
    "At the end of the lesson you should be able to:\n",
    "\n",
    "* use conditional statements to control the flow of your program.\n",
    "* use exception handling to deal with errors.\n",
    "* use loops to repeat code.\n",
    "* use strings and lists to store and manipulate data."
   ]
  },
  {
   "cell_type": "code",
   "execution_count": 1,
   "metadata": {},
   "outputs": [
    {
     "name": "stdout",
     "output_type": "stream",
     "text": [
      "Python version: 3.9.16 (main, Dec  7 2022, 02:40:58) \n",
      "[Clang 11.0.3 (clang-1103.0.32.62)]\n"
     ]
    }
   ],
   "source": [
    "# generally imports go at the top of a notebook\n",
    "\n",
    "# let's check the Python version\n",
    "import sys\n",
    "print(f\"Python version: {sys.version}\")"
   ]
  },
  {
   "cell_type": "markdown",
   "metadata": {},
   "source": [
    "## Topic 1: - Branching\n",
    "\n",
    "### 1.1 - if, elif, else\n",
    "\n",
    " Branching and conditional statements allow the code to execute different sequences of statements based on whether a condition is true or false. The primary conditional statements in Python are if, elif, and else."
   ]
  },
  {
   "cell_type": "markdown",
   "metadata": {},
   "source": [
    "---\n",
    "```\n",
    "if <condition>:\n",
    "    <statements>\n",
    "```"
   ]
  },
  {
   "cell_type": "code",
   "execution_count": 2,
   "metadata": {},
   "outputs": [
    {
     "name": "stdout",
     "output_type": "stream",
     "text": [
      "I'm an adult\n",
      "Still inside the if statement\n",
      "My age is 22\n",
      "\n",
      "Outside the if statement\n"
     ]
    }
   ],
   "source": [
    "# let's see some examples\n",
    "my_age = 22\n",
    "\n",
    "if my_age > 18: # in Python we use a colon to indicate the start of a block of code\n",
    "    print(\"I'm an adult\") # note the indentation\n",
    "    \n",
    "    # still inside the if statement\n",
    "    print(\"Still inside the if statement\")\n",
    "    print(f\"My age is {my_age}\")\n",
    "    print()\n",
    "    # still inside the if statement\n",
    "\n",
    "# outside the if statement\n",
    "print(\"Outside the if statement\") # this line is not indented and will always be executed"
   ]
  },
  {
   "cell_type": "code",
   "execution_count": 5,
   "metadata": {
    "scrolled": true
   },
   "outputs": [
    {
     "name": "stdout",
     "output_type": "stream",
     "text": [
      "My age is 42\n",
      "My age is {my_var}\n"
     ]
    }
   ],
   "source": [
    "my_var = 42\n",
    "\n",
    "# formatted literals\n",
    "print(f\"My age is {my_var}\")\n",
    "print(\"My age is {my_var}\")"
   ]
  },
  {
   "cell_type": "markdown",
   "metadata": {},
   "source": [
    "---\n",
    "#### if, else \n",
    "\n",
    "```\n",
    "if <condition>:\n",
    "    <statements>\n",
    "else:\n",
    "    <statements>\n",
    "```"
   ]
  },
  {
   "cell_type": "code",
   "execution_count": 6,
   "metadata": {},
   "outputs": [
    {
     "name": "stdout",
     "output_type": "stream",
     "text": [
      "odd\n",
      "Odd number: 5\n",
      "\n",
      "outside the if/else statement block of code\n"
     ]
    }
   ],
   "source": [
    "# let's write a program that checks if a number is even or odd\n",
    "# if the number is even, print \"even\"\n",
    "# if the number is odd, print \"odd\"\n",
    "\n",
    "number = 5\n",
    "\n",
    "if number % 2 == 0:\n",
    "    print(\"even\")\n",
    "    # still inside the if statement block of code\n",
    "    print(f\"Even number: {number}\")\n",
    "else:\n",
    "    print(\"odd\")\n",
    "    # still inside the else statement block of code\n",
    "    print(f\"Odd number: {number}\")\n",
    "\n",
    "# outside the if/else statement block of code\n",
    "print()\n",
    "print(\"outside the if/else statement block of code\")"
   ]
  },
  {
   "cell_type": "markdown",
   "metadata": {},
   "source": [
    "---\n",
    "#### if, elif, else\n",
    "\n",
    "```\n",
    "if <condition>:\n",
    "    <statements>\n",
    "elif <condition>:\n",
    "    <statements>\n",
    "else:\n",
    "    <statements>\n",
    "```"
   ]
  },
  {
   "cell_type": "code",
   "execution_count": 7,
   "metadata": {},
   "outputs": [
    {
     "name": "stdout",
     "output_type": "stream",
     "text": [
      "Number is lesser than target number\n"
     ]
    }
   ],
   "source": [
    "# let's see some examples\n",
    "\n",
    "# let's check if our number is greater, lesser or equal to target number\n",
    "number = 10\n",
    "target_number = 20\n",
    "\n",
    "if number > target_number: # checked first\n",
    "    print(\"Number is greater than target number\")\n",
    "elif number < target_number: # checked second\n",
    "    print(\"Number is lesser than target number\")\n",
    "else: # if none of the above conditions are met then we will execute this block\n",
    "    print(\"Number is equal to target number\")\n",
    "\n"
   ]
  },
  {
   "cell_type": "code",
   "execution_count": null,
   "metadata": {},
   "outputs": [],
   "source": [
    "## nested if else are possible\n",
    "# if conditionA:\n",
    "#     if conditionB:\n",
    "#         if conditionC:\n",
    "#             if conditionD:\n",
    "#                 if conditionE:\n",
    "#                     if conditionF:\n",
    "# Warning: Don't use more than 3-4 nested if else statements\n",
    "# this is a programming horror!"
   ]
  },
  {
   "cell_type": "code",
   "execution_count": null,
   "metadata": {},
   "outputs": [],
   "source": [
    "# let's see an example with 2 levels of nesting\n",
    "\n",
    "# let's write a program to check if a number is divisible by 2 and 3\n",
    "\n",
    "number = 6\n",
    "\n",
    "if number % 2 == 0:\n",
    "    print(\"number is divisible by 2\", number)\n",
    "    if number % 3 == 0:\n",
    "        print(\"number is divisible by 3\", number)\n",
    "    else:\n",
    "        print(\"number is not divisible by 3\", number)\n",
    "else:\n",
    "    print(\"number is not divisible by 2\", number)\n",
    "    if number % 3 == 0:\n",
    "        print(\"number is divisible by 3\", number)\n",
    "    else:\n",
    "        print(\"number is not divisible by 3\", number)\n",
    "\n",
    "# note that in above example we could have used flat if else statements\n",
    "# as well, which would be preferred\n",
    "        \n",
    "# this is just to show that nested if else statements are possible"
   ]
  },
  {
   "cell_type": "markdown",
   "metadata": {},
   "source": [
    "### Error Handling with try except\n",
    "\n",
    "In Python we can use `try` and `except` to catch errors.\n",
    "\n",
    "```\n",
    "try:\n",
    "    # code that might cause an error\n",
    "except:\n",
    "    # code that executes if an error happens\n",
    "```\n",
    "\n",
    "In effect we have conditional execution. Thus there is some similarity with `if` and `else` statements."
   ]
  },
  {
   "cell_type": "code",
   "execution_count": 8,
   "metadata": {},
   "outputs": [
    {
     "ename": "ZeroDivisionError",
     "evalue": "division by zero",
     "output_type": "error",
     "traceback": [
      "\u001b[0;31m---------------------------------------------------------------------------\u001b[0m",
      "\u001b[0;31mZeroDivisionError\u001b[0m                         Traceback (most recent call last)",
      "Cell \u001b[0;32mIn[8], line 1\u001b[0m\n\u001b[0;32m----> 1\u001b[0m \u001b[38;5;28mprint\u001b[39m(\u001b[38;5;241;43m5\u001b[39;49m\u001b[38;5;241;43m/\u001b[39;49m\u001b[38;5;241;43m0\u001b[39;49m)\n",
      "\u001b[0;31mZeroDivisionError\u001b[0m: division by zero"
     ]
    }
   ],
   "source": [
    "print(5/0)"
   ]
  },
  {
   "cell_type": "code",
   "execution_count": 9,
   "metadata": {},
   "outputs": [
    {
     "name": "stdout",
     "output_type": "stream",
     "text": [
      "You can't divide by zero!\n"
     ]
    }
   ],
   "source": [
    "# let's see try ... except in action\n",
    "\n",
    "try:\n",
    "    print(5/0)\n",
    "except:\n",
    "    print(\"You can't divide by zero!\")"
   ]
  },
  {
   "cell_type": "code",
   "execution_count": 10,
   "metadata": {},
   "outputs": [
    {
     "name": "stdout",
     "output_type": "stream",
     "text": [
      "You can't divide by zero!\n"
     ]
    }
   ],
   "source": [
    "# it is a good idea to catch specific errors \n",
    "# (instead of leaving the except parameter empty)\n",
    "\n",
    "try:\n",
    "    print(5/0)\n",
    "except ZeroDivisionError: # this will not catch other errors, just division by 0\n",
    "    print(\"You can't divide by zero!\")\n",
    "except ValueError:\n",
    "    print(\"Another error message\")\n",
    "\n",
    "# you can also have multiple except statements"
   ]
  },
  {
   "cell_type": "code",
   "execution_count": 13,
   "metadata": {},
   "outputs": [
    {
     "name": "stdout",
     "output_type": "stream",
     "text": [
      "You can't divide by zero!\n",
      "Error: division by zero\n",
      "This will always execute!\n"
     ]
    }
   ],
   "source": [
    "# we can also use else and finally statements\n",
    "\n",
    "# else will only execute if the try block was successful\n",
    "# finally will always execute\n",
    "\n",
    "try:\n",
    "    print(5/0)\n",
    "except ZeroDivisionError as e: # we can store the error in a variable\n",
    "    print(\"You can't divide by zero!\")\n",
    "    print(f\"Error: {e}\")\n",
    "else:\n",
    "    print(\"Division successful!\")\n",
    "finally:\n",
    "    # cleanup code\n",
    "    print(\"This will always execute!\")"
   ]
  },
  {
   "cell_type": "code",
   "execution_count": 18,
   "metadata": {},
   "outputs": [
    {
     "name": "stdin",
     "output_type": "stream",
     "text": [
      "Ievadi skaitli, kas mazāks par 5:  6\n"
     ]
    },
    {
     "name": "stdout",
     "output_type": "stream",
     "text": [
      "Kļūda: Skaitlim jābūt mazākam par 5!\n"
     ]
    }
   ],
   "source": [
    "class MyException(Exception):\n",
    "  pass  \n",
    "\n",
    "try:\n",
    "  number = int(input(\"Ievadi skaitli, kas mazāks par 5: \"))\n",
    "\n",
    "  if number >= 5:\n",
    "    raise MyException(\"Skaitlim jābūt mazākam par 5!\")\n",
    "      \n",
    "except MyException as e:\n",
    "  print(\"Kļūda:\", e)\n",
    "\n"
   ]
  },
  {
   "cell_type": "markdown",
   "metadata": {},
   "source": [
    "#### Topic 1 - mini exercise"
   ]
  },
  {
   "cell_type": "code",
   "execution_count": null,
   "metadata": {},
   "outputs": [],
   "source": [
    "# Mini exercise to test your if/else knowledge\n",
    "\n",
    "# 1. Create a variable called `age` and set it equal to your age\n",
    "# 2. Write an if/else statement that prints \"I'm old\" if your age is greater than 30\n",
    "# 3. Write an if/else statement that prints \"I'm young\" if your age is less than 30\n"
   ]
  },
  {
   "cell_type": "markdown",
   "metadata": {},
   "source": [
    "## Topic 2: - Looping\n",
    "\n",
    "### 2.1 - While loops\n",
    "\n",
    "While loops are used to repeat a block of code until a condition is met.\n",
    "The condition is checked at the start of each iteration of the loop.\n",
    "- If the condition is true, the code block is executed.\n",
    "- This repeats until the condition becomes false.\n",
    "\n",
    "The syntax for a while loop is:\n",
    "```\n",
    "while <condition>:\n",
    "    <statements>\n",
    "```\n",
    "Statements in the code block are indented to show that they are part of the while loop.\n"
   ]
  },
  {
   "cell_type": "code",
   "execution_count": 21,
   "metadata": {},
   "outputs": [
    {
     "name": "stdout",
     "output_type": "stream",
     "text": [
      "Number is 1\n",
      "Number is 2\n",
      "Number is 3\n",
      "Number is 4\n",
      "Number is 5\n"
     ]
    }
   ],
   "source": [
    "# let's see an example\n",
    "\n",
    "# this while loop will print the numbers 1 to 5\n",
    "\n",
    "i = 1\n",
    "\n",
    "while i <= 5: # again note indentation after the colon\n",
    "    print(f\"Number is {i}\")\n",
    "    i = i + 1 # crucial to increment i, otherwise the loop will run forever"
   ]
  },
  {
   "cell_type": "markdown",
   "metadata": {},
   "source": [
    "---\n",
    "#### break in while loops\n",
    "\n",
    "You can use the `break` statement to exit a while loop. This is useful if you have a condition that you want to check for and then exit the loop if that condition is met.\n"
   ]
  },
  {
   "cell_type": "code",
   "execution_count": 22,
   "metadata": {},
   "outputs": [
    {
     "name": "stdin",
     "output_type": "stream",
     "text": [
      "Enter a number:  15\n",
      "Enter a number:  2\n",
      "Enter a number:  -15\n"
     ]
    },
    {
     "name": "stdout",
     "output_type": "stream",
     "text": [
      "You entered a negative number -15\n"
     ]
    }
   ],
   "source": [
    "\n",
    "# for example, let's say we want to ask the user for a number\n",
    "# and then keep asking for a number until they enter a negative number\n",
    "# we can use a while loop to do this\n",
    "\n",
    "# we'll use a variable called number to store the number the user enters\n",
    "# we'll use a while loop to keep asking for a number until the user enters a negative number\n",
    "# we'll use a break statement to exit the loop if the user enters a negative number\n",
    "\n",
    "# we'll use a while True loop to keep asking for a number\n",
    "\n",
    "while True: # True loops are infinite loops quite common as main loops in applications\n",
    "    \n",
    "    # ask the user for a number\n",
    "    number = int(input(\"Enter a number: \")) \n",
    "    # note above conversion may fail if the user enters a non-numeric value\n",
    "    \n",
    "    # if the number is negative, exit the loop\n",
    "    if number < 0:\n",
    "        print(\"You entered a negative number\", number)\n",
    "        break"
   ]
  },
  {
   "cell_type": "markdown",
   "metadata": {},
   "source": [
    "---\n",
    "#### continue in while loops\n",
    "\n",
    "The `continue` statement can be used in loops to skip the rest of the loop's code block for the current iteration only.\n"
   ]
  },
  {
   "cell_type": "code",
   "execution_count": 23,
   "metadata": {},
   "outputs": [
    {
     "name": "stdout",
     "output_type": "stream",
     "text": [
      "0\n",
      "after continue 1\n",
      "1\n",
      "after continue 2\n",
      "2\n",
      "Skipping to start of next iteration\n",
      "3\n",
      "after continue 4\n",
      "4\n",
      "after continue 5\n"
     ]
    }
   ],
   "source": [
    "\n",
    "# Here is an example:\n",
    "\n",
    "i = 0\n",
    "\n",
    "while i < 5:\n",
    "    print(i)\n",
    "    i += 1 # crucial to increment i before continue else we will get stuck in an infinite loop\n",
    "    if i == 3:\n",
    "        print(\"Skipping to start of next iteration\")\n",
    "        continue\n",
    "    print('after continue', i)\n",
    "\n",
    "# continue is used less than break, we can often emulate continue \n",
    "# using if statements and incrementing the counter\n"
   ]
  },
  {
   "cell_type": "markdown",
   "metadata": {},
   "source": [
    "### 2.1.2 - Error handling in a while loop\n",
    "\n",
    "While loops can be used to handle errors. For example, if you want to ask the user for a number, but you want to make sure that the user actually enters a number."
   ]
  },
  {
   "cell_type": "code",
   "execution_count": 24,
   "metadata": {},
   "outputs": [
    {
     "name": "stdin",
     "output_type": "stream",
     "text": [
      "Enter an integer:  aaa\n"
     ]
    },
    {
     "name": "stdout",
     "output_type": "stream",
     "text": [
      "You didn't enter a integer number, please try again\n"
     ]
    },
    {
     "name": "stdin",
     "output_type": "stream",
     "text": [
      "Enter an integer:  12.2\n"
     ]
    },
    {
     "name": "stdout",
     "output_type": "stream",
     "text": [
      "You didn't enter a integer number, please try again\n"
     ]
    },
    {
     "name": "stdin",
     "output_type": "stream",
     "text": [
      "Enter an integer:  12\n"
     ]
    },
    {
     "name": "stdout",
     "output_type": "stream",
     "text": [
      "You entered the number 12\n"
     ]
    }
   ],
   "source": [
    "# we can use a while loop to keep asking the user for a number until they enter a number\n",
    "# we can use try and except to handle errors\n",
    "\n",
    "while True:\n",
    "    try:\n",
    "        number = int(input(\"Enter an integer: \"))\n",
    "        # crucially this line will only be reached if the user \n",
    "        # enters a number that is converted to an integer\n",
    "        # here we could already start working with the number\n",
    "        break\n",
    "    except ValueError:\n",
    "        print(\"You didn't enter a integer number, please try again\")\n",
    "        # continue is not required here but could have been used in a longer while loop\n",
    "\n",
    "print(\"You entered the number\", number) # we are guaranteed that number is an integer"
   ]
  },
  {
   "cell_type": "markdown",
   "metadata": {},
   "source": [
    "---\n",
    "#### Bonus: else in a while loop\n",
    "\n",
    "Somewhat controversial and rare, but you can use `else` in a `while` loop. Else will run if the while loop exits normally (not via break)."
   ]
  },
  {
   "cell_type": "code",
   "execution_count": 27,
   "metadata": {},
   "outputs": [
    {
     "name": "stdout",
     "output_type": "stream",
     "text": [
      "17 is prime\n"
     ]
    }
   ],
   "source": [
    "# example: find if a number is prime\n",
    "\n",
    "# prime numbers are only divisible by 1 and themselves\n",
    "# 1 is historically not considered prime\n",
    "\n",
    "my_number = 17\n",
    "\n",
    "# we will use a while loop to check if my_number is prime\n",
    "\n",
    "# we will start with a divisor of 2\n",
    "divisor = 2\n",
    "\n",
    "while divisor < my_number: # for math inclined we only need to check up to square root of my_number. Why?\n",
    "\n",
    "    if my_number % divisor == 0:\n",
    "        print(f\"{my_number} is not prime\")\n",
    "        print(f\"{my_number} is divisible by {divisor}\")\n",
    "        break\n",
    "    divisor += 1 # not the most efficient way to do this, but it works\n",
    "    \n",
    "else: # this else is attached to the while loop NOT the if statement!\n",
    "    print(f\"{my_number} is prime\") # meaning we never hit the break statement"
   ]
  },
  {
   "cell_type": "markdown",
   "metadata": {},
   "source": [
    "---\n",
    "### 2.2 - For loops\n",
    "\n",
    "In Python `for` loops are used to iterate over a collection of items.\n",
    "\n",
    "Practically speaking, if we do not know how many iterations we need to do, we use a `while` loop. If we have some sort of collection of items, we use a `for` loop.\n",
    "\n",
    "Syntax of a for loop:\n",
    "```\n",
    "for <variable> in <collection>:\n",
    "    <statements>\n",
    "```"
   ]
  },
  {
   "cell_type": "code",
   "execution_count": 28,
   "metadata": {},
   "outputs": [
    {
     "name": "stdout",
     "output_type": "stream",
     "text": [
      "R <class 'str'>\n",
      "ī <class 'str'>\n",
      "g <class 'str'>\n",
      "a <class 'str'>\n"
     ]
    }
   ],
   "source": [
    "# let's see an example\n",
    "\n",
    "# we have a string of a name and we want to print each letter of the name\n",
    "# so we can think of string as a collection of letters\n",
    "# note: Python does not have character data type, so a string of length 1 is still a string\n",
    "\n",
    "city = \"Rīga\"\n",
    "\n",
    "for letter in city:\n",
    "    print(letter, type(letter))"
   ]
  },
  {
   "cell_type": "markdown",
   "metadata": {},
   "source": [
    "---\n",
    "Commonly `for` loops are used in conjunction with the `range()` function.\n",
    "\n",
    "- range function returns a sequence of numbers, \n",
    "- starting from 0 by default, \n",
    "- and increments by 1 (by default), and stops before a specified number\n",
    "\n",
    "```\n",
    "range(start, stop, step)\n",
    "```\n",
    "- start: Optional. An integer number specifying at which position to start. Default is 0\n",
    "- stop: Required. An integer number specifying at which position to stop (not included).\n",
    "- step: Optional. An integer number specifying the incrementation. Default is 1\n"
   ]
  },
  {
   "cell_type": "code",
   "execution_count": 29,
   "metadata": {},
   "outputs": [
    {
     "name": "stdout",
     "output_type": "stream",
     "text": [
      "Hello!\n",
      "Hello!\n",
      "Hello!\n",
      "Hello!\n",
      "Hello!\n"
     ]
    }
   ],
   "source": [
    "# let's see some examples\n",
    "\n",
    "# we can use range(5) to execute the for loop 5 times\n",
    "for n in range(5):\n",
    "    print(\"Hello!\")"
   ]
  },
  {
   "cell_type": "code",
   "execution_count": 37,
   "metadata": {},
   "outputs": [
    {
     "name": "stdout",
     "output_type": "stream",
     "text": [
      "0 1 2 3 4 "
     ]
    }
   ],
   "source": [
    "# range(5) will return 5 integers: 0, 1, 2, 3, 4\n",
    "for n in range(5):\n",
    "    print(n, end=' ') # end=' ' is used to print the output in a single line"
   ]
  },
  {
   "cell_type": "code",
   "execution_count": 36,
   "metadata": {},
   "outputs": [
    {
     "name": "stdout",
     "output_type": "stream",
     "text": [
      "3 4 5 "
     ]
    }
   ],
   "source": [
    "# range(3, 6) will return 3, 4, 5\n",
    "for n in range(3, 6):\n",
    "    print(n, end=' ')"
   ]
  },
  {
   "cell_type": "code",
   "execution_count": 34,
   "metadata": {},
   "outputs": [
    {
     "name": "stdout",
     "output_type": "stream",
     "text": [
      "10 12 14 16 "
     ]
    }
   ],
   "source": [
    "# range(10, 18, 2) will return 10, 12, 14, 16\n",
    "for n in range(10, 18, 2):\n",
    "    print(n, end=' ')"
   ]
  },
  {
   "cell_type": "code",
   "execution_count": 35,
   "metadata": {},
   "outputs": [
    {
     "name": "stdout",
     "output_type": "stream",
     "text": [
      "-10 -40 -70 "
     ]
    }
   ],
   "source": [
    "# we can use negative numbers as well\n",
    "for n in range(-10, -100, -30): # -10, -40, -70 but not -100\n",
    "    print(n, end=' ')"
   ]
  },
  {
   "cell_type": "markdown",
   "metadata": {},
   "source": [
    "---\n",
    "#### break and continue in a for loop\n",
    "\n",
    "Just like in `while` loops, in `for` loops you can also use `break` and `continue`.\n",
    "\n",
    "- `break` will stop the loop\n",
    "- `continue` will skip the rest of the code in the loop and go to the next iteration"
   ]
  },
  {
   "cell_type": "code",
   "execution_count": 38,
   "metadata": {},
   "outputs": [
    {
     "name": "stdout",
     "output_type": "stream",
     "text": [
      "0\n",
      "1\n",
      "2\n",
      "3\n",
      "4\n",
      "5\n",
      "Whee, I am out of the loop 5\n"
     ]
    }
   ],
   "source": [
    "# example of break\n",
    "\n",
    "for i in range(10):\n",
    "    print(i)\n",
    "    if i == 5:\n",
    "        print(\"Whee, I am out of the loop\", i)\n",
    "        break"
   ]
  },
  {
   "cell_type": "code",
   "execution_count": 39,
   "metadata": {},
   "outputs": [
    {
     "name": "stdout",
     "output_type": "stream",
     "text": [
      "> Skipping this iteration 0\n",
      "Printing this iteration 1\n",
      "> Skipping this iteration 2\n",
      "Printing this iteration 3\n",
      "> Skipping this iteration 4\n",
      "Printing this iteration 5\n",
      "> Skipping this iteration 6\n",
      "Printing this iteration 7\n",
      "> Skipping this iteration 8\n",
      "Printing this iteration 9\n"
     ]
    }
   ],
   "source": [
    "# example of continue\n",
    "\n",
    "for i in range(10):\n",
    "    if i % 2 == 0:\n",
    "        print(\"> Skipping this iteration\", i)\n",
    "        continue \n",
    "    # note: instead of continue else could have been used here as part of the if statement\n",
    "    print(\"Printing this iteration\", i)"
   ]
  },
  {
   "cell_type": "markdown",
   "metadata": {},
   "source": [
    "---\n",
    "#### else in for loop\n",
    "\n",
    "Just like `while` loops, `for` loops can have an `else` block associated with them.\n",
    "\n",
    "The `else` block is executed only if the for loop runs to completion (i.e. not if it is broken out of with `break`). This use of else is not very common, but it can be useful.\n",
    "\n",
    "It is possible in the future it will be removed from the language.\n",
    "- see a discussion here: https://stackoverflow.com/questions/9979970/why-does-python-use-else-after-for-and-while-loops\n",
    "\n",
    "You can always emulate `else` with a flag variable such as `is_found`, `is_done`, etc."
   ]
  },
  {
   "cell_type": "code",
   "execution_count": 40,
   "metadata": {},
   "outputs": [
    {
     "name": "stdout",
     "output_type": "stream",
     "text": [
      "17 is prime\n"
     ]
    }
   ],
   "source": [
    "# still let's see an example of for/else\n",
    "\n",
    "# again prime example\n",
    "\n",
    "n = 17\n",
    "\n",
    "for i in range(2, n):\n",
    "    if n % i == 0:\n",
    "        print(f'{n} is not prime')\n",
    "        print(f'{n} is divisible by {i}')\n",
    "        break\n",
    "\n",
    "else: # this else is associated with the for loop, runs when no break is encountered\n",
    "    print(f'{n} is prime')"
   ]
  },
  {
   "cell_type": "markdown",
   "metadata": {},
   "source": [
    "#### Topic 2 - mini exercise\n",
    "\n",
    "Experiment with the prime program from the previous topic.\n",
    "\n",
    "* Try to make it more efficient by only checking divisors up to the square root of the number.\n",
    "* Try to make it more efficient by only checking odd numbers."
   ]
  },
  {
   "cell_type": "markdown",
   "metadata": {},
   "source": [
    "---\n",
    "\n",
    "### Topic 3: - strings, indexing and slicing"
   ]
  },
  {
   "cell_type": "markdown",
   "metadata": {},
   "source": [
    "We can think of strings as a sequence of characters.\n",
    "- in Python those would be the characters in the Unicode character set\n",
    "- technically those would be still strings of length 1, but we can think of them as characters."
   ]
  },
  {
   "cell_type": "code",
   "execution_count": 41,
   "metadata": {},
   "outputs": [
    {
     "name": "stdout",
     "output_type": "stream",
     "text": [
      "6\n"
     ]
    }
   ],
   "source": [
    "# We can use the len function to find out how many characters a string has.\n",
    "\n",
    "# The len function is a built-in function in Python.\n",
    "# It can take a string as a parameter and return the number of characters in that string.\n",
    "\n",
    "# Let's try it out.\n",
    "country = \"Latvia\"\n",
    "print(len(country))"
   ]
  },
  {
   "cell_type": "code",
   "execution_count": 42,
   "metadata": {},
   "outputs": [
    {
     "name": "stdout",
     "output_type": "stream",
     "text": [
      "L\n",
      "a\n",
      "a\n"
     ]
    }
   ],
   "source": [
    "# how would we get first character of a string?\n",
    "# how would we get last character of a string?\n",
    "\n",
    "# first character would be string[0]\n",
    "\n",
    "# last character would be string[-1] \n",
    "# Python uses negative indexing to start from the end of the string\n",
    "\n",
    "# alternatively, you could use string[len(string) - 1] \n",
    "# but Python is cool and lets you use negative indexing\n",
    "\n",
    "print(country[0]) # first character\n",
    "\n",
    "print(country[-1]) # last character\n",
    "print(country[len(country) - 1]) # last character # again no need to use this method"
   ]
  },
  {
   "cell_type": "markdown",
   "metadata": {},
   "source": [
    "---\n",
    "### String slicing\n",
    "\n",
    "We might want to get more than a single element from some collection. We can do this using slicing.\n",
    "- for now we only know strings so let's use slicing on them\n",
    "\n",
    "We can get a substring from a string using slicing:\n",
    "- in slicing we specify the start index and the end index (and optionally the step parameter)\n",
    "- the start index is inclusive and the end index is exclusive!"
   ]
  },
  {
   "cell_type": "code",
   "execution_count": 45,
   "metadata": {},
   "outputs": [
    {
     "name": "stdout",
     "output_type": "stream",
     "text": [
      "abc\n",
      "xyz\n"
     ]
    }
   ],
   "source": [
    "# let's use alphabet as an example\n",
    "alphabet = \"abcdefghijklmnopqrstuvwxyz\"\n",
    "\n",
    "# first 3 letters\n",
    "print(alphabet[:3]) # this is the same as alphabet[0:3]\n",
    "\n",
    "# last 3 letters\n",
    "print(alphabet[-3:]) # this is the same as alphabet[23:26] in this particular case"
   ]
  },
  {
   "cell_type": "code",
   "execution_count": 46,
   "metadata": {},
   "outputs": [
    {
     "name": "stdout",
     "output_type": "stream",
     "text": [
      "acegikmoqsuwy\n",
      "knqt\n"
     ]
    }
   ],
   "source": [
    "# we can also use step in slicing\n",
    "# [start:stop:step]\n",
    "\n",
    "print(alphabet[::2]) # print every other letter\n",
    "\n",
    "# print every 3rd letter from 11th to 19th\n",
    "print(alphabet[10:20:3]) # note 10 means 11th letter, we start indexing from 0!"
   ]
  },
  {
   "cell_type": "code",
   "execution_count": 47,
   "metadata": {},
   "outputs": [
    {
     "name": "stdout",
     "output_type": "stream",
     "text": [
      "zyxwvutsrqponmlkjihgfedcba\n"
     ]
    }
   ],
   "source": [
    "# we also have a nifty way of reversing a string in Python\n",
    "\n",
    "reverse_alphabet = alphabet[::-1] # we use the step size of -1 to reverse the string\n",
    "print(reverse_alphabet)"
   ]
  },
  {
   "cell_type": "markdown",
   "metadata": {},
   "source": [
    "#### Topic 3 - mini exercise\n",
    "\n",
    "* create a variable for the name of your favorite food\n",
    "* print first 4 letters of the food name\n",
    "* print last 5 letters of the food name\n",
    "* print the letters in reverse order"
   ]
  },
  {
   "cell_type": "markdown",
   "metadata": {},
   "source": [
    "### Topic 4 - lists\n"
   ]
  },
  {
   "cell_type": "markdown",
   "metadata": {},
   "source": [
    "Lists in Python:\n",
    "\n",
    "- lists are a collection of arbitrary items\n",
    "- lists are mutable - their contents can change\n",
    "- lists are dynamic - their size can change\n",
    "- lists are ordered\n",
    "- lists can contain any type of data\n",
    "- lists can contain lists (nested lists)\n",
    "\n",
    "Python lists are similar to arrays in other languages.\n",
    "\n",
    "Syntax:\n",
    "`list_name = [item1, item2, item3, ...]`"
   ]
  },
  {
   "cell_type": "code",
   "execution_count": 48,
   "metadata": {},
   "outputs": [
    {
     "name": "stdout",
     "output_type": "stream",
     "text": [
      "[1, 2, 3, 4, 5]\n"
     ]
    }
   ],
   "source": [
    "# let's create a list\n",
    "\n",
    "my_list = [1, 2, 3, 4, 5]\n",
    "print(my_list)"
   ]
  },
  {
   "cell_type": "code",
   "execution_count": 49,
   "metadata": {},
   "outputs": [
    {
     "name": "stdout",
     "output_type": "stream",
     "text": [
      "[1, 2, 3, 4, 5]\n",
      "Do our lists have same contents? True\n",
      "Are our lists same objects in memory? False\n"
     ]
    }
   ],
   "source": [
    "# using list to create numbers from range\n",
    "\n",
    "numbers = list(range(1, 6))\n",
    "print(numbers)\n",
    "\n",
    "# let's compare our lists\n",
    "print(\"Do our lists have same contents?\", my_list == numbers)\n",
    "\n",
    "# are our lists same objects in memory?\n",
    "# the lists are different objects in memory since we created them separately\n",
    "print(\"Are our lists same objects in memory?\", my_list is numbers)\n",
    "\n",
    "# \"is\" operation is the same as using id(my_list) == id(numbers)"
   ]
  },
  {
   "cell_type": "code",
   "execution_count": 50,
   "metadata": {},
   "outputs": [
    {
     "name": "stdout",
     "output_type": "stream",
     "text": [
      "First element 1\n",
      "Last element 5\n"
     ]
    }
   ],
   "source": [
    "# indexing works just like in strings\n",
    "# 0 is the first element\n",
    "# -1 is the last element\n",
    "\n",
    "print(\"First element\", my_list[0])\n",
    "print(\"Last element\", my_list[-1])"
   ]
  },
  {
   "cell_type": "code",
   "execution_count": 51,
   "metadata": {},
   "outputs": [
    {
     "name": "stdout",
     "output_type": "stream",
     "text": [
      "[1, 2, 3]\n",
      "[3, 4, 5]\n"
     ]
    }
   ],
   "source": [
    "# slicing works just like in strings\n",
    "# [start:stop:step]\n",
    "\n",
    "# start is inclusive\n",
    "# stop is exclusive\n",
    "# step is optional\n",
    "\n",
    "# first 3 elements\n",
    "print(my_list[:3])  # same as my_list[0:3]\n",
    "\n",
    "# last 3 elements\n",
    "print(my_list[-3:])  "
   ]
  },
  {
   "cell_type": "code",
   "execution_count": 52,
   "metadata": {},
   "outputs": [
    {
     "name": "stdout",
     "output_type": "stream",
     "text": [
      "[1, 3, 5]\n"
     ]
    }
   ],
   "source": [
    "# step in list\n",
    "# print every 2nd element in list\n",
    "print(my_list[::2])"
   ]
  },
  {
   "cell_type": "code",
   "execution_count": 53,
   "metadata": {},
   "outputs": [
    {
     "name": "stdout",
     "output_type": "stream",
     "text": [
      "[5, 4, 3, 2, 1]\n"
     ]
    }
   ],
   "source": [
    "# reversed list\n",
    "reversed_list = my_list[::-1]\n",
    "print(reversed_list)"
   ]
  },
  {
   "cell_type": "code",
   "execution_count": 55,
   "metadata": {},
   "outputs": [
    {
     "name": "stdout",
     "output_type": "stream",
     "text": [
      "[5, 4, 3, 2, 1]\n"
     ]
    }
   ],
   "source": [
    "print(list(reversed(my_list)))"
   ]
  },
  {
   "cell_type": "markdown",
   "metadata": {},
   "source": [
    "---\n",
    "#### Mutability in lists:\n",
    "\n",
    "Lists are mutable, meaning that we can change an object in place."
   ]
  },
  {
   "cell_type": "code",
   "execution_count": 56,
   "metadata": {},
   "outputs": [
    {
     "name": "stdout",
     "output_type": "stream",
     "text": [
      "[1, 2, 3, 100, 5]\n"
     ]
    }
   ],
   "source": [
    "# let's change 4th element of the list\n",
    "my_list[3] = 100\n",
    "print(my_list)\n",
    "\n",
    "# compare to strings which are immutable"
   ]
  },
  {
   "cell_type": "code",
   "execution_count": 57,
   "metadata": {},
   "outputs": [
    {
     "name": "stdout",
     "output_type": "stream",
     "text": [
      "[1, 2, 3, 100, 5, 66]\n"
     ]
    }
   ],
   "source": [
    "# dynamism in lists\n",
    "# we can add and remove elements from a list\n",
    "\n",
    "# we can add elements to a list using the append method\n",
    "#  - a list is an object\n",
    "#  - append() is its method\n",
    "\n",
    "# let's append a new element to the list\n",
    "my_list.append(66) # IN-PLACE method, meaning it changes the list itself!\n",
    "print(my_list)"
   ]
  },
  {
   "cell_type": "code",
   "execution_count": 58,
   "metadata": {},
   "outputs": [
    {
     "name": "stdout",
     "output_type": "stream",
     "text": [
      "[1, 2, 3, 100, 5, 66, 4, 5, 6]\n"
     ]
    }
   ],
   "source": [
    "# extending a list\n",
    "\n",
    "# how about adding a list to a list?\n",
    "# we can do this with the extend() method\n",
    "# extend takes a list as an argument and adds each element of the list to the original list\n",
    "\n",
    "# let's see how this works in practice\n",
    "\n",
    "my_list.extend([4, 5, 6]) # IN PLACE - modifies the original list\n",
    "print(my_list)"
   ]
  },
  {
   "cell_type": "code",
   "execution_count": 59,
   "metadata": {},
   "outputs": [
    {
     "name": "stdout",
     "output_type": "stream",
     "text": [
      "[1, 2, 3, 100, 5, 66, 4, 5, 6, [200, 300, 400]]\n"
     ]
    }
   ],
   "source": [
    "# what happens if we use append with a list?\n",
    "\n",
    "my_list.append([200,300,400])\n",
    "print(my_list) # what happened?\n",
    "# we got a nested list"
   ]
  },
  {
   "cell_type": "code",
   "execution_count": 60,
   "metadata": {},
   "outputs": [
    {
     "name": "stdout",
     "output_type": "stream",
     "text": [
      "[200, 300, 400]\n",
      "200\n"
     ]
    }
   ],
   "source": [
    "# how would we get the inner list?\n",
    "print(my_list[-1]) # our inner list is last element of the list, so we can use -1 to get it\n",
    "\n",
    "# how would we get first value of the inner list?\n",
    "print(my_list[-1][0]) "
   ]
  },
  {
   "cell_type": "code",
   "execution_count": 61,
   "metadata": {},
   "outputs": [
    {
     "name": "stdout",
     "output_type": "stream",
     "text": [
      "Before removing the last element of the list:  [1, 2, 3, 100, 5, 66, 4, 5, 6, [200, 300, 400]]\n",
      "After removing the last element of the list:  [1, 2, 3, 100, 5, 66, 4, 5, 6]\n"
     ]
    }
   ],
   "source": [
    "# now let's remove the last element of the list\n",
    "\n",
    "print(\"Before removing the last element of the list: \", my_list)\n",
    "popped_value = my_list.pop() # IN-PLACE - modifies the list!\n",
    "print(\"After removing the last element of the list: \", my_list)"
   ]
  },
  {
   "cell_type": "code",
   "execution_count": 62,
   "metadata": {},
   "outputs": [
    {
     "name": "stdout",
     "output_type": "stream",
     "text": [
      "popped value: [200, 300, 400]\n"
     ]
    }
   ],
   "source": [
    "# pop method actually saves the popped value in a variable\n",
    "# it just so happens that here it was a list\n",
    "\n",
    "print(f\"popped value: {popped_value}\")"
   ]
  },
  {
   "cell_type": "markdown",
   "metadata": {},
   "source": [
    "---\n",
    "#### Iterating over a list"
   ]
  },
  {
   "cell_type": "code",
   "execution_count": 63,
   "metadata": {},
   "outputs": [
    {
     "name": "stdout",
     "output_type": "stream",
     "text": [
      "1\n",
      "2\n",
      "3\n",
      "100\n",
      "5\n",
      "66\n",
      "4\n",
      "5\n",
      "6\n"
     ]
    }
   ],
   "source": [
    "# we can use a for loop to iterate over a list\n",
    "\n",
    "for item in my_list:\n",
    "    print(item)"
   ]
  },
  {
   "cell_type": "code",
   "execution_count": 64,
   "metadata": {},
   "outputs": [
    {
     "name": "stdout",
     "output_type": "stream",
     "text": [
      "Item No. 0 -> 1\n",
      "Item No. 1 -> 2\n",
      "Item No. 2 -> 3\n",
      "Item No. 3 -> 100\n",
      "Item No. 4 -> 5\n",
      "Item No. 5 -> 66\n",
      "Item No. 6 -> 4\n",
      "Item No. 7 -> 5\n",
      "Item No. 8 -> 6\n"
     ]
    }
   ],
   "source": [
    "# how about adding index number when iterating over a list?\n",
    "\n",
    "# you might be tempted to do this:\n",
    "# for i in range(len(my_list)):\n",
    "#     print(i, my_list[i])\n",
    "# but this is not \"pythonic\" and is not recommended\n",
    "\n",
    "# instead use the enumerate() function:\n",
    "\n",
    "for i, item in enumerate(my_list):   # i, item are arbitrary variable names\n",
    "    print(f\"Item No. {i} ->\", item)\n",
    "\n"
   ]
  },
  {
   "cell_type": "markdown",
   "metadata": {},
   "source": [
    "---\n",
    "#### More on list methods"
   ]
  },
  {
   "cell_type": "markdown",
   "metadata": {},
   "source": [
    "There are additional list methods that you can use to manipulate lists:\n",
    "\n",
    "- .append() adds an element to the end of a list. IN PLACE\n",
    "- .extend() adds all elements of one list to another list. IN PLACE\n",
    "- .insert() inserts an element at a given index, IN PLACE\n",
    "- .pop() removes and returns the element at a given index (or the last element if no index is specified). IN PLACE\n",
    "- .remove() removes the first matching element. IN PLACE\n",
    "- .sort() sorts a list's elements. IN PLACE\n",
    "- .reverse() reverses the order of a list's elements. IN PLACE\n",
    "- .index() returns the index of a specific element.\n",
    "- .count() returns the number of times a specific element appears in a list.\n",
    "- .join() takes a list of strings and concatenates them with a given string as a separator.\n",
    "- .copy() returns a copy of a list. NOT IN PLACE - shallow copy\n",
    "- .clear() removes all elements from a list. IN PLACE\n",
    "\n",
    "Documentation: https://docs.python.org/3/tutorial/datastructures.html#more-on-lists\n"
   ]
  },
  {
   "cell_type": "code",
   "execution_count": 65,
   "metadata": {},
   "outputs": [
    {
     "name": "stdout",
     "output_type": "stream",
     "text": [
      "Help on method_descriptor:\n",
      "\n",
      "pop(self, index=-1, /)\n",
      "    Remove and return item at index (default last).\n",
      "    \n",
      "    Raises IndexError if list is empty or index is out of range.\n",
      "\n"
     ]
    }
   ],
   "source": [
    "help(list.pop)"
   ]
  },
  {
   "cell_type": "markdown",
   "metadata": {},
   "source": [
    "---\n",
    "#### Splitting strings and joining lists\n",
    "\n",
    "You can use a string method `split()` to split a string (usually by space characters).\n",
    "\n",
    "You can use a string method `join()` to combine list items (text strings) into a larger string using a given separator string (see example)."
   ]
  },
  {
   "cell_type": "code",
   "execution_count": 66,
   "metadata": {},
   "outputs": [
    {
     "name": "stdout",
     "output_type": "stream",
     "text": [
      "['Why,', 'sometimes', \"I've\", 'believed', 'as', 'many', 'as', 'six', 'impossible', 'things', 'before', 'breakfast.']\n"
     ]
    }
   ],
   "source": [
    "my_text = \"Why, sometimes I've believed as many as six impossible things before breakfast.\"\n",
    "\n",
    "# we get a list of \"words\" (tokens)\n",
    "words = my_text.split()\n",
    "\n",
    "print(words)"
   ]
  },
  {
   "cell_type": "code",
   "execution_count": 67,
   "metadata": {},
   "outputs": [
    {
     "name": "stdout",
     "output_type": "stream",
     "text": [
      "Why,\n",
      "sometimes\n",
      "I've\n",
      "believed\n",
      "as\n",
      "many\n",
      "as\n",
      "six\n",
      "impossible\n",
      "things\n",
      "before\n",
      "breakfast.\n"
     ]
    }
   ],
   "source": [
    "for item in words:\n",
    "    print(item)"
   ]
  },
  {
   "cell_type": "code",
   "execution_count": 68,
   "metadata": {},
   "outputs": [
    {
     "name": "stdout",
     "output_type": "stream",
     "text": [
      "Why, sometimes I've believed as many as six impossible things before breakfast.\n"
     ]
    }
   ],
   "source": [
    "# let's join these strings back together\n",
    "my_text2 = \" \".join(words)\n",
    "print(my_text2)"
   ]
  },
  {
   "cell_type": "code",
   "execution_count": 69,
   "metadata": {},
   "outputs": [
    {
     "name": "stdout",
     "output_type": "stream",
     "text": [
      "Why, - sometimes - I've - believed - as - many - as - six - impossible - things - before - breakfast.\n"
     ]
    }
   ],
   "source": [
    "# we can use other separators, not just \" \"\n",
    "my_text2 = \" - \".join(words)\n",
    "print(my_text2)"
   ]
  },
  {
   "cell_type": "code",
   "execution_count": 70,
   "metadata": {},
   "outputs": [
    {
     "name": "stdout",
     "output_type": "stream",
     "text": [
      "Why, 🙂 sometimes 🙂 I've 🙂 believed 🙂 as 🙂 many 🙂 as 🙂 six 🙂 impossible 🙂 things 🙂 before 🙂 breakfast.\n"
     ]
    }
   ],
   "source": [
    "# emoticons are valid Unicode characters, too\n",
    "my_text2 = \" 🙂 \".join(words)\n",
    "print(my_text2)"
   ]
  },
  {
   "cell_type": "code",
   "execution_count": 72,
   "metadata": {},
   "outputs": [
    {
     "name": "stdout",
     "output_type": "stream",
     "text": [
      "Why, sometimes I've believed as many as six impossible miracles before breakfast.\n"
     ]
    }
   ],
   "source": [
    "new_str = my_text.replace(\"things\", \"miracles\")\n",
    "\n",
    "print(new_str)"
   ]
  },
  {
   "cell_type": "code",
   "execution_count": 73,
   "metadata": {},
   "outputs": [
    {
     "data": {
      "text/plain": [
       "\"Whx, sometimes I've believed as many as six impossible things before breakfast.\""
      ]
     },
     "execution_count": 73,
     "metadata": {},
     "output_type": "execute_result"
    }
   ],
   "source": [
    "# strings are not MUTABLE - we can not change them \"in place\"\n",
    "\n",
    "# but we can construct a new, modified string with the required changes: \n",
    "my_text[:2] + \"x\" + my_text[3:]"
   ]
  },
  {
   "cell_type": "markdown",
   "metadata": {},
   "source": [
    "---"
   ]
  },
  {
   "cell_type": "code",
   "execution_count": null,
   "metadata": {},
   "outputs": [],
   "source": [
    "# Mini list exercise (1)\n",
    "\n",
    "# create a list of even numbers from 10 to 30 (inclusive on both ends)"
   ]
  },
  {
   "cell_type": "code",
   "execution_count": null,
   "metadata": {},
   "outputs": [],
   "source": [
    "# Mini list exercise (2)\n",
    "\n",
    "# assign a text sentence of your choice to a variable\n",
    "# split the text into words\n",
    "# print a *sorted* list of words"
   ]
  },
  {
   "cell_type": "markdown",
   "metadata": {},
   "source": [
    "## Lesson Summary\n",
    "\n",
    "In this lesson we have learned about the following concepts:\n",
    "\n",
    "* **branching** - executing different code depending on a condition.\n",
    "* **conditional statements** - statements that allow us to branch.\n",
    "* **if statement** - a conditional statement that allows us to branch based on a condition.\n",
    "* **if-else statement** - a conditional statement that allows us to branch based on a condition, with a default branch.\n",
    "* **if-elif-else statement** - a conditional statement that allows us to branch based on a condition, with a default branch and multiple alternative branches.\n",
    "\n",
    "### Iteration\n",
    "\n",
    "* **iteration** - executing the same code multiple times.\n",
    "* **loop** - a construct that allows us to iterate.\n",
    "* **for loop** - a loop that iterates over a sequence.\n",
    "* **while loop** - a loop that iterates while a condition is true.\n",
    "* **loop control statements** - statements that allow us to control the flow of a loop.\n",
    "\n",
    "### Exceptions\n",
    "\n",
    "* **exception** - an error that occurs during execution.\n",
    "* **exception handling** - handling exceptions so that they do not cause the program to crash.\n",
    "* **try-except statement** - a statement that allows us to handle exceptions.\n",
    "\n",
    "### String indexing and slicing\n",
    "\n",
    "* **indexing** - accessing a single character in a string.\n",
    "* **slicing** - accessing a substring of a string.\n",
    "* **index** - a number that identifies a character in a string.\n",
    "* **slice** - a substring of a string.\n",
    "\n",
    "### Lists\n",
    "\n",
    "* **list** - a sequence of values.\n",
    "* **list methods** - methods that allow us to manipulate lists.\n",
    "* **append method** - a method that allows us to add a value to the end of a list.\n",
    "* **pop method** - a method that allows us to remove a value from the end of a list.\n"
   ]
  },
  {
   "cell_type": "markdown",
   "metadata": {},
   "source": [
    "## Exercises for further practice\n",
    "\n",
    "### Exercise 1 - primes\n",
    "\n",
    "Create an code cell that saves list of first n primes in a list variable called `primes` and prints the list.\n",
    "n should be user entered positive integer - check for valid input!\n",
    "\n",
    "\n",
    "### Exercise 2 - generic fizzbuzz\n",
    "\n",
    "Create a code cell that saves items in a list `fizz_buzz_list` \n",
    "\n",
    "You start at number `start` and finish code at `end`(inclusive). \n",
    "\n",
    "But for multiples of variable `fizz` append \"Fizz\" instead of the number and for the multiples of `buzz` append \"Buzz\". For numbers which are multiples of both `fizz` and `buzz` append \"FizzBuzz\".\n",
    "\n",
    "Print the list.\n"
   ]
  },
  {
   "cell_type": "markdown",
   "metadata": {},
   "source": [
    "## Additional Resources\n",
    "\n",
    "### Topic 1 - branching, if, elif, else, try, except, finally\n",
    "\n",
    "- [Official if docs](https://docs.python.org/3/reference/compound_stmts.html#if)\n",
    "- [Official try docs](https://docs.python.org/3/reference/compound_stmts.html#try)\n",
    "\n",
    "### Topic 2 - while, for loops\n",
    "\n",
    "- [Official while docs](https://docs.python.org/3/reference/compound_stmts.html#while)\n",
    "- [Official for docs](https://docs.python.org/3/reference/compound_stmts.html#for)\n",
    "\n",
    "### Topic 3 - strings, slicing, indexing\n",
    "\n",
    "- [Official String docs](https://docs.python.org/3/library/stdtypes.html#text-sequence-type-str)\n",
    "- [Official Sequence docs](https://docs.python.org/3/library/stdtypes.html#sequence-types-list-tuple-range)\n",
    "\n",
    "### Topic 4 - list resources\n",
    "\n",
    "* [Official List docs](https://docs.python.org/3/tutorial/datastructures.html#more-on-lists)\n"
   ]
  }
 ],
 "metadata": {
  "kernelspec": {
   "display_name": "Python 3 (ipykernel)",
   "language": "python",
   "name": "python3"
  },
  "language_info": {
   "codemirror_mode": {
    "name": "ipython",
    "version": 3
   },
   "file_extension": ".py",
   "mimetype": "text/x-python",
   "name": "python",
   "nbconvert_exporter": "python",
   "pygments_lexer": "ipython3",
   "version": "3.9.16"
  }
 },
 "nbformat": 4,
 "nbformat_minor": 4
}
