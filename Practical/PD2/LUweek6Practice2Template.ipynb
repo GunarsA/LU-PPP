{
  "cells": [
    {
      "cell_type": "markdown",
      "metadata": {
        "id": "Dx2MgNL2Vp21"
      },
      "source": [
        "# 6. nedēļa Praktiskā nodarbība Nr. 2\n"
      ]
    },
    {
      "cell_type": "markdown",
      "metadata": {
        "id": "KPrH78Fbi7LA"
      },
      "source": [
        "# Praktiski nostiprināsim:\n",
        "**vārdnīcas, funkcijas, Python bibliotēkas**"
      ]
    },
    {
      "cell_type": "markdown",
      "metadata": {
        "id": "brbFfAd0V0Ta"
      },
      "source": [
        "**Uzdevums U1**\n",
        "\n",
        "Našķu kalkulators, grūtības pakāpe: 2/5\n",
        "\n",
        "Lietotājs ievada, cik soļus ir nostaigājis pastaigā. Programma izvada kāds našķu apjoms kcal būtu ekvivalents pastaigā patērētajām kalorijām.\n",
        "\n",
        "Dati testiem:\n",
        "\"Cielaviņa\" 480 kcal, āboli 52, burkāni 41, banāns 89, piena šokolāde 535, sviestmaize 304.\n",
        "\n",
        "1000 soļu veikšanai tiek izlietotas apmēram 35 kcal."
      ]
    },
    {
      "cell_type": "code",
      "execution_count": 22,
      "metadata": {
        "colab": {
          "base_uri": "https://localhost:8080/"
        },
        "id": "Z_KopbosPkBt",
        "outputId": "70d0ee50-b8ce-4a50-b536-b58d315527e9"
      },
      "outputs": [],
      "source": [
        "solu_skaits=int(input(\"Kādu soļu skaitu izdevās sasniegt?\"))"
      ]
    },
    {
      "cell_type": "code",
      "execution_count": 23,
      "metadata": {},
      "outputs": [],
      "source": [
        "def calc_calories(solu_skaits):\n",
        "    soli_1000 = 35\n",
        "    rez_kcal = soli_1000 * solu_skaits / 1000\n",
        "    return rez_kcal\n",
        "\n",
        "\n",
        "def calc_food(kcal_per_100, kcal_required):\n",
        "    return (kcal_required*100) / kcal_per_100\n"
      ]
    },
    {
      "cell_type": "code",
      "execution_count": 24,
      "metadata": {},
      "outputs": [
        {
          "name": "stdout",
          "output_type": "stream",
          "text": [
            "Jus paterejat 8.19 kcal\n",
            "Jums vajadzetu apmeram 1.71 Cielaviņa\n",
            "Jums vajadzetu apmeram 15.75 Apple\n",
            "Jums vajadzetu apmeram 19.5 Carrot\n",
            "Jums vajadzetu apmeram 9.2 Banana\n",
            "Jums vajadzetu apmeram 1.53 Milk Chocolate\n",
            "Jums vajadzetu apmeram 2.69 Sandwich\n"
          ]
        }
      ],
      "source": [
        "food_kcal={\"Cielaviņa\" : 480, \"Apple\": 52, \"Carrot\" : 42, \"Banana\" : 89, \"Milk Chocolate\" : 535, \"Sandwich\" : 304}\n",
        "rez_kcal=calc_calories(solu_skaits)\n",
        "print(f\"Jus paterejat {rez_kcal} kcal\")\n",
        "for key, value in food_kcal.items():\n",
        "    print(f\"Jums vajadzetu apmeram {round(calc_food(value, rez_kcal), 2)} {key}\")"
      ]
    },
    {
      "cell_type": "markdown",
      "metadata": {
        "id": "KG7XRtWY1tz7"
      },
      "source": [
        "**Uzdevums U2**\n",
        "Grūtības pakāpe: 3/5\n",
        "\n",
        "Realizēt vienkāršotu kafijas automāta programmatūru.\n",
        "1. Kafijas automāts lietotājam piedāvā izvēlēties: melnu vai baltu kafiju vai tēju. Neatkarīgi no veida dzēriens maksā 80 centus.\n",
        "2. Lietotājs drīkst izmantot tikai 10, 20, 50 centu monētas. Automāts izdod atlikumu 10, 20 un 50 centu monētās.\n",
        "3. Melna kafija tiek pagatavota: 300 ml ūdens, 8 grami kafijas. Balta kafija tiek pagatavota 260 ml ūdens, 8 grami kafijas, 40 ml piena. Tēja tiek pagatavota: 300 ml ūdens, 1 tējas vienība.  \n",
        "4. Pēc automāta apkopes tajā ir ievietoti: 1 l ūdens, 1 l piena, 3 tējas vienības, 40 g kafijas. 5 50 centu monētas, 5 20 centu monētas, 5 10 centu monētas.\n",
        "\n",
        "Realizējiet sekojošus uzdevumus:\n",
        "\n",
        "---------Bezmaksas automāts :)------------------------\n",
        "\n",
        "A. Lietotājs izvēlas dzērienu.\n",
        "\n",
        "B. Automāts pārbauda, vai pietiek sastāvdaļu dzēriena pagatavošanai. Ja jā, tad ejam pie nākamā soļa; ja nē, tad paziņojam, ka nepietiek sastāvdaļu un process beidzas.\n",
        "\n",
        "C. Atņemt no sastāvdaļām dzēriena pagatavošanai nepieciešamo.  \n",
        "\n",
        "--------Maksas automāts ----------------------------\n",
        "\n",
        "Jēgpilni integrēt iepriekšējā kodā\n",
        "\n",
        "D. Lietotājs norāda, cik katra veida monētu ir ievietotas, piemēram, 8 10 centu monētas.\n",
        "\n",
        "E. Automāts pārbauda, vai pietiek naudas dzēriena iegādei. Ja jā, tad ejam pie nākamā soļa, ja nē, tad process beidzas (šobrīd ciklu neveidosim).\n",
        "\n",
        "F. Ja naudas pietiek, tad pagatavot dzērienu un aprēķināt vai nepieciešams izdot atlikumu un izdrukāt atlikuma apjomu pa monētu veidiem.\n",
        "\n",
        "G. Pieskaitīt lietotāja iemaksātu naudu automātā esošajiem resursiem un atņemt atlikumā izdoto.\n",
        "\n",
        "Papildu grūtības pakāpe:\n",
        "\n",
        "Realizēt ciklu tā, lai lietotājs varētu izvēlēties citu dzērienu, ja trūkst sastāvdaļu esošajam vai piemaksāt, ja trūkst naudas dzēriena iegādei."
      ]
    },
    {
      "cell_type": "code",
      "execution_count": 25,
      "metadata": {},
      "outputs": [],
      "source": [
        "class FreeCoffeeMachine:\n",
        "    def __init__(self, ingredients={'water': 1000, 'milk': 1000, 'coffee': 40, 'tea': 3},\n",
        "                 money={'50': 50, '20': 50, '10': 50}) -> None:\n",
        "        self.ingredients = ingredients\n",
        "        self.money = money\n",
        "\n",
        "    def _check_ingredients(self, drink) -> bool:\n",
        "        if drink == \"tea\":\n",
        "            answer = self.ingredients['water'] >= 300 and self.ingredients['tea'] >= 1\n",
        "        elif drink == \"black coffee\":\n",
        "            answer = self.ingredients['water'] >= 300 and self.ingredients['coffee'] >= 8\n",
        "        else:\n",
        "            answer = (self.ingredients['water'] >= 260\n",
        "                      and self.ingredients['milk'] >= 40\n",
        "                      and self.ingredients['coffee'] >= 8)\n",
        "\n",
        "        return answer\n",
        "\n",
        "    def _prepare_drink(self, drink) -> None:\n",
        "        if drink == \"tea\":\n",
        "            self.ingredients['water'] -= 300\n",
        "            self.ingredients['tea'] -= 1\n",
        "        elif drink == \"black coffee\":\n",
        "            self.ingredients['water'] -= 300\n",
        "            self.ingredients['coffee'] -= 8\n",
        "        else:\n",
        "            self.ingredients['water'] -= 260\n",
        "            self.ingredients['milk'] -= 40\n",
        "            self.ingredients['coffee'] -= 8\n",
        "\n",
        "    def get_drink(self) -> None:\n",
        "        drink = input(\n",
        "            \"Choose your drink (black coffee, white coffee, tea): \")\n",
        "        ans = self._check_ingredients(drink)\n",
        "\n",
        "        if ans:\n",
        "            self._prepare_drink(drink)\n",
        "            print(\"Please, take your drink!\")\n",
        "        else:\n",
        "            print(\"Sorry, not enough ingredients!\")\n"
      ]
    },
    {
      "cell_type": "code",
      "execution_count": 27,
      "metadata": {},
      "outputs": [],
      "source": [
        "class PaidCoffeeMachine:\n",
        "    def __init__(self,\n",
        "                 ingredients={'water': 1000, 'milk': 1000,\n",
        "                              'coffee': 40, 'tea': 3},\n",
        "                 money={'50': 50, '20': 50, '10': 50}) -> None:\n",
        "        self._ingredients = ingredients\n",
        "        self._money = money\n",
        "\n",
        "    def _check_ingredients(self, drink) -> bool:\n",
        "        if drink == \"tea\":\n",
        "            answer = self._ingredients['water'] >= 300 and self._ingredients['tea'] >= 1\n",
        "        elif drink == \"black coffee\":\n",
        "            answer = self._ingredients['water'] >= 300 and self._ingredients['coffee'] >= 8\n",
        "        else:\n",
        "            answer = (self._ingredients['water'] >= 260\n",
        "                      and self._ingredients['milk'] >= 40\n",
        "                      and self._ingredients['coffee'] >= 8)\n",
        "\n",
        "        return answer\n",
        "\n",
        "    def _calc_change(self, total):\n",
        "        change = total - 80\n",
        "        coin50 = change // 50\n",
        "        coin20 = (change % 50) // 20\n",
        "        coin10 = ((change % 50) % 20) // 10\n",
        "\n",
        "        return [coin50, coin20, coin10]\n",
        "\n",
        "    def _check_money(self, user_money) -> int:\n",
        "        total = user_money[0] * 50 + user_money[1] * 20 + user_money[2] * 10\n",
        "\n",
        "        if total == 80:\n",
        "            val = 0\n",
        "        elif total < 80:\n",
        "            val = -1\n",
        "        else:\n",
        "            val = self._calc_change(total)\n",
        "\n",
        "        return val\n",
        "\n",
        "    def _prepare_drink(self, drink) -> None:\n",
        "        if drink == \"tea\":\n",
        "            self._ingredients['water'] -= 300\n",
        "            self._ingredients['tea'] -= 1\n",
        "        elif drink == \"black coffee\":\n",
        "            self._ingredients['water'] -= 300\n",
        "            self._ingredients['coffee'] -= 8\n",
        "        else:\n",
        "            self._ingredients['water'] -= 260\n",
        "            self._ingredients['milk'] -= 40\n",
        "            self._ingredients['coffee'] -= 8\n",
        "\n",
        "    def get_drink(self) -> None:\n",
        "        coin50 = int(input(\"How many 50 cent coins do you have?\"))\n",
        "        coin20 = int(input(\"How many 20 cent coins do you have?\"))\n",
        "        coin10 = int(input(\"How many 10 cent coins do you have?\"))\n",
        "        user_money = [coin50, coin20, coin10]\n",
        "\n",
        "        ans_money = self._check_money(user_money)\n",
        "        if ans_money == -1:\n",
        "            print(\"Sorry, not enough money!\")\n",
        "            return\n",
        "        elif ans_money == 0:\n",
        "            self._money['50'] += user_money[0]\n",
        "            self._money['20'] += user_money[1]\n",
        "            self._money['10'] += user_money[2]\n",
        "        else:\n",
        "            self._money['50'] += user_money[0]\n",
        "            self._money['20'] += user_money[1]\n",
        "            self._money['10'] += user_money[2]\n",
        "            self._money['50'] -= ans_money[0]\n",
        "            self._money['20'] -= ans_money[1]\n",
        "            self._money['10'] -= ans_money[2]\n",
        "\n",
        "        drink = input(\n",
        "            \"Choose your drink (black coffee, white coffee, tea): \")\n",
        "\n",
        "        ans = self._check_ingredients(drink)\n",
        "\n",
        "        if ans:\n",
        "            self._prepare_drink(drink)\n",
        "            print(\"Please, take your drink!\")\n",
        "        else:\n",
        "            print(\"Sorry, not enough ingredients!\")\n"
      ]
    },
    {
      "cell_type": "code",
      "execution_count": 31,
      "metadata": {},
      "outputs": [
        {
          "name": "stdout",
          "output_type": "stream",
          "text": [
            "[0, 1, 0]\n",
            "Sorry, not enough ingredients!\n"
          ]
        }
      ],
      "source": [
        "# machine = FreeCoffeeMachine()\n",
        "# machine.get_drink()\n",
        "\n",
        "machine = PaidCoffeeMachine()\n",
        "machine.get_drink()"
      ]
    },
    {
      "cell_type": "markdown",
      "metadata": {
        "id": "61mX-AoMS4jY"
      },
      "source": [
        "**Uzdevums U3**\n",
        "\n",
        "Grūtības pakāpe: ar priekšzināšanām.\n",
        "\n",
        "Izmēģināt dažādas attēlu apstrādes operācijas, izmantojot Python scikit-image bibliotēku un matplotlib vizualizācijām.\n",
        "\n",
        "1. Augšupielādēt Colab jebkādu krāsu attēlu pēc savas izvēles JPG formātā.\n",
        "\n",
        "2. Ielasīt attēlu kā mainīgo im, izmantojot imread funkciju. Attēlu iespējams aplūkot, izmantojot matplotlib.pyplot imshow funkciju.\n",
        "\n",
        "3. Vadoties pēc dokumentācijas, uzlabot attēla kontrastu (exposure.equalize_hist)\n",
        "\n",
        "4. Vadoties pēc dokumentācijas, izpludināt attēlu (filters.gaussian)\n",
        "\n",
        "5. Vadoties pēc dokumentācijas, uzlabot attēla asumu (unsharp_masking)."
      ]
    },
    {
      "cell_type": "code",
      "execution_count": null,
      "metadata": {
        "id": "erjFpnOGmIgO"
      },
      "outputs": [],
      "source": []
    }
  ],
  "metadata": {
    "colab": {
      "provenance": []
    },
    "kernelspec": {
      "display_name": "Python 3",
      "name": "python3"
    },
    "language_info": {
      "codemirror_mode": {
        "name": "ipython",
        "version": 3
      },
      "file_extension": ".py",
      "mimetype": "text/x-python",
      "name": "python",
      "nbconvert_exporter": "python",
      "pygments_lexer": "ipython3",
      "version": "3.11.0"
    }
  },
  "nbformat": 4,
  "nbformat_minor": 0
}
